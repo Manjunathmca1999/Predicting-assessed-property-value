{
  "cells": [
    {
      "cell_type": "markdown",
      "source": [
        "IMPORTING NECCESARY PACKAGES"
      ],
      "metadata": {
        "id": "IHElQELRyrYc"
      }
    },
    {
      "cell_type": "code",
      "source": [
        "import numpy as np\n",
        "import pandas as pd\n",
        "import matplotlib.pyplot as plt\n",
        "import seaborn as sns\n",
        "%matplotlib inline"
      ],
      "metadata": {
        "id": "FsnkWpnPmQyj"
      },
      "execution_count": 596,
      "outputs": []
    },
    {
      "cell_type": "markdown",
      "source": [
        "READING TRAIN AND TEST DATA"
      ],
      "metadata": {
        "id": "kkeelowRyzd4"
      }
    },
    {
      "cell_type": "code",
      "source": [
        "df = pd.read_excel('/content/Train.xlsx')\n",
        "df_test = pd.read_excel('/content/Test.xlsx')\n",
        "test_c = df_test.copy()"
      ],
      "metadata": {
        "id": "-B0EKSZ7mzRv"
      },
      "execution_count": 597,
      "outputs": []
    },
    {
      "cell_type": "markdown",
      "source": [
        "DESCRIPTIVE STATISTICS"
      ],
      "metadata": {
        "id": "-HmbB9uCy2u_"
      }
    },
    {
      "cell_type": "code",
      "source": [
        "df.head()"
      ],
      "metadata": {
        "colab": {
          "base_uri": "https://localhost:8080/",
          "height": 409
        },
        "id": "rjA4u4QWntDF",
        "outputId": "91598d4e-7197-4254-9147-85db3da1b11f"
      },
      "execution_count": 598,
      "outputs": [
        {
          "output_type": "execute_result",
          "data": {
            "text/plain": [
              "  PropertyID  Borough State Surroundings                 Address  ZipCode  \\\n",
              "0    PR11101        1    NY     BATHGATE      1473 CROTONA PLACE    10456   \n",
              "1    PR11102        1    NY     BATHGATE            453 EAST 181    10457   \n",
              "2    PR11103        1    NY     BATHGATE     511 EAST 171 STREET    10457   \n",
              "3    PR11104        1    NY     BATHGATE   547 CLAREMONT PARKWAY    10457   \n",
              "4    PR11105        1    NY     BATHGATE  2063 WASHINGTON AVENUE    10457   \n",
              "\n",
              "   Block  Lot          BldgClassCategory  NoOfResidentialUnits  \\\n",
              "0   2927  127    02 TWO FAMILY DWELLINGS                     2   \n",
              "1   3037  110  03 THREE FAMILY DWELLINGS                     3   \n",
              "2   2912  155    02 TWO FAMILY DWELLINGS                     2   \n",
              "3   2929  134    02 TWO FAMILY DWELLINGS                     2   \n",
              "4   3036  140    02 TWO FAMILY DWELLINGS                     2   \n",
              "\n",
              "   NoOfCommercialUnits  TotalNoOfUnits  LandAreaInSqFt  GrossAreaInSqFt  \\\n",
              "0                    0               2            1900             2394   \n",
              "1                    0               3            1687             3037   \n",
              "2                    0               2            2000             2400   \n",
              "3                    0               2            2356             2394   \n",
              "4                    0               2            3346             2308   \n",
              "\n",
              "   YearOfConstruction  TaxClass_AtEvaluationTime BldgClass_AtEvaluationTime  \\\n",
              "0                1990                          1                         B1   \n",
              "1                2002                          1                         C0   \n",
              "2                1989                          1                         B1   \n",
              "3                1991                          1                         B1   \n",
              "4                1993                          1                         B1   \n",
              "\n",
              "  DateOfEvaluation  PropertyEvaluationvalue  \n",
              "0       2014-05-30                   540000  \n",
              "1       2014-09-13                   750000  \n",
              "2       2014-09-28                   470000  \n",
              "3       2014-06-05                   570000  \n",
              "4       2015-02-07                   640000  "
            ],
            "text/html": [
              "\n",
              "  <div id=\"df-4cdc79f1-77ff-4261-9416-ae3eaa5fbefe\">\n",
              "    <div class=\"colab-df-container\">\n",
              "      <div>\n",
              "<style scoped>\n",
              "    .dataframe tbody tr th:only-of-type {\n",
              "        vertical-align: middle;\n",
              "    }\n",
              "\n",
              "    .dataframe tbody tr th {\n",
              "        vertical-align: top;\n",
              "    }\n",
              "\n",
              "    .dataframe thead th {\n",
              "        text-align: right;\n",
              "    }\n",
              "</style>\n",
              "<table border=\"1\" class=\"dataframe\">\n",
              "  <thead>\n",
              "    <tr style=\"text-align: right;\">\n",
              "      <th></th>\n",
              "      <th>PropertyID</th>\n",
              "      <th>Borough</th>\n",
              "      <th>State</th>\n",
              "      <th>Surroundings</th>\n",
              "      <th>Address</th>\n",
              "      <th>ZipCode</th>\n",
              "      <th>Block</th>\n",
              "      <th>Lot</th>\n",
              "      <th>BldgClassCategory</th>\n",
              "      <th>NoOfResidentialUnits</th>\n",
              "      <th>NoOfCommercialUnits</th>\n",
              "      <th>TotalNoOfUnits</th>\n",
              "      <th>LandAreaInSqFt</th>\n",
              "      <th>GrossAreaInSqFt</th>\n",
              "      <th>YearOfConstruction</th>\n",
              "      <th>TaxClass_AtEvaluationTime</th>\n",
              "      <th>BldgClass_AtEvaluationTime</th>\n",
              "      <th>DateOfEvaluation</th>\n",
              "      <th>PropertyEvaluationvalue</th>\n",
              "    </tr>\n",
              "  </thead>\n",
              "  <tbody>\n",
              "    <tr>\n",
              "      <th>0</th>\n",
              "      <td>PR11101</td>\n",
              "      <td>1</td>\n",
              "      <td>NY</td>\n",
              "      <td>BATHGATE</td>\n",
              "      <td>1473 CROTONA PLACE</td>\n",
              "      <td>10456</td>\n",
              "      <td>2927</td>\n",
              "      <td>127</td>\n",
              "      <td>02 TWO FAMILY DWELLINGS</td>\n",
              "      <td>2</td>\n",
              "      <td>0</td>\n",
              "      <td>2</td>\n",
              "      <td>1900</td>\n",
              "      <td>2394</td>\n",
              "      <td>1990</td>\n",
              "      <td>1</td>\n",
              "      <td>B1</td>\n",
              "      <td>2014-05-30</td>\n",
              "      <td>540000</td>\n",
              "    </tr>\n",
              "    <tr>\n",
              "      <th>1</th>\n",
              "      <td>PR11102</td>\n",
              "      <td>1</td>\n",
              "      <td>NY</td>\n",
              "      <td>BATHGATE</td>\n",
              "      <td>453 EAST 181</td>\n",
              "      <td>10457</td>\n",
              "      <td>3037</td>\n",
              "      <td>110</td>\n",
              "      <td>03 THREE FAMILY DWELLINGS</td>\n",
              "      <td>3</td>\n",
              "      <td>0</td>\n",
              "      <td>3</td>\n",
              "      <td>1687</td>\n",
              "      <td>3037</td>\n",
              "      <td>2002</td>\n",
              "      <td>1</td>\n",
              "      <td>C0</td>\n",
              "      <td>2014-09-13</td>\n",
              "      <td>750000</td>\n",
              "    </tr>\n",
              "    <tr>\n",
              "      <th>2</th>\n",
              "      <td>PR11103</td>\n",
              "      <td>1</td>\n",
              "      <td>NY</td>\n",
              "      <td>BATHGATE</td>\n",
              "      <td>511 EAST 171 STREET</td>\n",
              "      <td>10457</td>\n",
              "      <td>2912</td>\n",
              "      <td>155</td>\n",
              "      <td>02 TWO FAMILY DWELLINGS</td>\n",
              "      <td>2</td>\n",
              "      <td>0</td>\n",
              "      <td>2</td>\n",
              "      <td>2000</td>\n",
              "      <td>2400</td>\n",
              "      <td>1989</td>\n",
              "      <td>1</td>\n",
              "      <td>B1</td>\n",
              "      <td>2014-09-28</td>\n",
              "      <td>470000</td>\n",
              "    </tr>\n",
              "    <tr>\n",
              "      <th>3</th>\n",
              "      <td>PR11104</td>\n",
              "      <td>1</td>\n",
              "      <td>NY</td>\n",
              "      <td>BATHGATE</td>\n",
              "      <td>547 CLAREMONT PARKWAY</td>\n",
              "      <td>10457</td>\n",
              "      <td>2929</td>\n",
              "      <td>134</td>\n",
              "      <td>02 TWO FAMILY DWELLINGS</td>\n",
              "      <td>2</td>\n",
              "      <td>0</td>\n",
              "      <td>2</td>\n",
              "      <td>2356</td>\n",
              "      <td>2394</td>\n",
              "      <td>1991</td>\n",
              "      <td>1</td>\n",
              "      <td>B1</td>\n",
              "      <td>2014-06-05</td>\n",
              "      <td>570000</td>\n",
              "    </tr>\n",
              "    <tr>\n",
              "      <th>4</th>\n",
              "      <td>PR11105</td>\n",
              "      <td>1</td>\n",
              "      <td>NY</td>\n",
              "      <td>BATHGATE</td>\n",
              "      <td>2063 WASHINGTON AVENUE</td>\n",
              "      <td>10457</td>\n",
              "      <td>3036</td>\n",
              "      <td>140</td>\n",
              "      <td>02 TWO FAMILY DWELLINGS</td>\n",
              "      <td>2</td>\n",
              "      <td>0</td>\n",
              "      <td>2</td>\n",
              "      <td>3346</td>\n",
              "      <td>2308</td>\n",
              "      <td>1993</td>\n",
              "      <td>1</td>\n",
              "      <td>B1</td>\n",
              "      <td>2015-02-07</td>\n",
              "      <td>640000</td>\n",
              "    </tr>\n",
              "  </tbody>\n",
              "</table>\n",
              "</div>\n",
              "      <button class=\"colab-df-convert\" onclick=\"convertToInteractive('df-4cdc79f1-77ff-4261-9416-ae3eaa5fbefe')\"\n",
              "              title=\"Convert this dataframe to an interactive table.\"\n",
              "              style=\"display:none;\">\n",
              "        \n",
              "  <svg xmlns=\"http://www.w3.org/2000/svg\" height=\"24px\"viewBox=\"0 0 24 24\"\n",
              "       width=\"24px\">\n",
              "    <path d=\"M0 0h24v24H0V0z\" fill=\"none\"/>\n",
              "    <path d=\"M18.56 5.44l.94 2.06.94-2.06 2.06-.94-2.06-.94-.94-2.06-.94 2.06-2.06.94zm-11 1L8.5 8.5l.94-2.06 2.06-.94-2.06-.94L8.5 2.5l-.94 2.06-2.06.94zm10 10l.94 2.06.94-2.06 2.06-.94-2.06-.94-.94-2.06-.94 2.06-2.06.94z\"/><path d=\"M17.41 7.96l-1.37-1.37c-.4-.4-.92-.59-1.43-.59-.52 0-1.04.2-1.43.59L10.3 9.45l-7.72 7.72c-.78.78-.78 2.05 0 2.83L4 21.41c.39.39.9.59 1.41.59.51 0 1.02-.2 1.41-.59l7.78-7.78 2.81-2.81c.8-.78.8-2.07 0-2.86zM5.41 20L4 18.59l7.72-7.72 1.47 1.35L5.41 20z\"/>\n",
              "  </svg>\n",
              "      </button>\n",
              "      \n",
              "  <style>\n",
              "    .colab-df-container {\n",
              "      display:flex;\n",
              "      flex-wrap:wrap;\n",
              "      gap: 12px;\n",
              "    }\n",
              "\n",
              "    .colab-df-convert {\n",
              "      background-color: #E8F0FE;\n",
              "      border: none;\n",
              "      border-radius: 50%;\n",
              "      cursor: pointer;\n",
              "      display: none;\n",
              "      fill: #1967D2;\n",
              "      height: 32px;\n",
              "      padding: 0 0 0 0;\n",
              "      width: 32px;\n",
              "    }\n",
              "\n",
              "    .colab-df-convert:hover {\n",
              "      background-color: #E2EBFA;\n",
              "      box-shadow: 0px 1px 2px rgba(60, 64, 67, 0.3), 0px 1px 3px 1px rgba(60, 64, 67, 0.15);\n",
              "      fill: #174EA6;\n",
              "    }\n",
              "\n",
              "    [theme=dark] .colab-df-convert {\n",
              "      background-color: #3B4455;\n",
              "      fill: #D2E3FC;\n",
              "    }\n",
              "\n",
              "    [theme=dark] .colab-df-convert:hover {\n",
              "      background-color: #434B5C;\n",
              "      box-shadow: 0px 1px 3px 1px rgba(0, 0, 0, 0.15);\n",
              "      filter: drop-shadow(0px 1px 2px rgba(0, 0, 0, 0.3));\n",
              "      fill: #FFFFFF;\n",
              "    }\n",
              "  </style>\n",
              "\n",
              "      <script>\n",
              "        const buttonEl =\n",
              "          document.querySelector('#df-4cdc79f1-77ff-4261-9416-ae3eaa5fbefe button.colab-df-convert');\n",
              "        buttonEl.style.display =\n",
              "          google.colab.kernel.accessAllowed ? 'block' : 'none';\n",
              "\n",
              "        async function convertToInteractive(key) {\n",
              "          const element = document.querySelector('#df-4cdc79f1-77ff-4261-9416-ae3eaa5fbefe');\n",
              "          const dataTable =\n",
              "            await google.colab.kernel.invokeFunction('convertToInteractive',\n",
              "                                                     [key], {});\n",
              "          if (!dataTable) return;\n",
              "\n",
              "          const docLinkHtml = 'Like what you see? Visit the ' +\n",
              "            '<a target=\"_blank\" href=https://colab.research.google.com/notebooks/data_table.ipynb>data table notebook</a>'\n",
              "            + ' to learn more about interactive tables.';\n",
              "          element.innerHTML = '';\n",
              "          dataTable['output_type'] = 'display_data';\n",
              "          await google.colab.output.renderOutput(dataTable, element);\n",
              "          const docLink = document.createElement('div');\n",
              "          docLink.innerHTML = docLinkHtml;\n",
              "          element.appendChild(docLink);\n",
              "        }\n",
              "      </script>\n",
              "    </div>\n",
              "  </div>\n",
              "  "
            ]
          },
          "metadata": {},
          "execution_count": 598
        }
      ]
    },
    {
      "cell_type": "code",
      "source": [
        "df_test.head()"
      ],
      "metadata": {
        "colab": {
          "base_uri": "https://localhost:8080/",
          "height": 409
        },
        "id": "c73Q32IBpHs7",
        "outputId": "460cebb8-0a93-47f5-fc3d-bc6e1ca0e64e"
      },
      "execution_count": 599,
      "outputs": [
        {
          "output_type": "execute_result",
          "data": {
            "text/plain": [
              "  PropertyID  Borough State  Surroundings              Address  ZipCode  \\\n",
              "0    PR51101        1    NY      BATHGATE        3860 3 AVENUE    10457   \n",
              "1    PR51102        1    NY      BATHGATE  455 E. 179TH STREET    10457   \n",
              "2    PR51103        1    NY      BATHGATE        4415 3 AVENUE    10457   \n",
              "3    PR51104        1    NY      BATHGATE  407 EAST 174 STREET    10457   \n",
              "4    PR51105        1    NY  EAST TREMONT  2175 CROTONA AVENUE    10457   \n",
              "\n",
              "   Block  Lot          BldgClassCategory  NoOfResidentialUnits  \\\n",
              "0   2929  117       02  TWO FAMILY HOMES                     2   \n",
              "1   3036   65    02 TWO FAMILY DWELLINGS                     2   \n",
              "2   3048   51     14 RENTALS - 4-10 UNIT                     4   \n",
              "3   2899   34              30 WAREHOUSES                     0   \n",
              "4   3083   40  03 THREE FAMILY DWELLINGS                     3   \n",
              "\n",
              "   NoOfCommercialUnits  TotalNoOfUnits  LandAreaInSqFt  GrossAreaInSqFt  \\\n",
              "0                    0               2            2498             2394   \n",
              "1                    0               2            2033             2340   \n",
              "2                    1               5            2500             6000   \n",
              "3                    1               1            3439             3320   \n",
              "4                    0               3            1348             2931   \n",
              "\n",
              "   YearOfConstruction  TaxClass_AtEvaluationTime BldgClass_AtEvaluationTime  \\\n",
              "0                1995                          1                         B1   \n",
              "1                1994                          1                         B1   \n",
              "2                1963                          2                         S4   \n",
              "3                1951                          4                         E1   \n",
              "4                1997                          1                         C0   \n",
              "\n",
              "  DateOfEvaluation  \n",
              "0       2013-06-24  \n",
              "1       2014-08-28  \n",
              "2       2015-01-31  \n",
              "3       2015-03-12  \n",
              "4       2014-06-07  "
            ],
            "text/html": [
              "\n",
              "  <div id=\"df-b60deac6-52e5-4aa0-8b3a-996f11e13ce4\">\n",
              "    <div class=\"colab-df-container\">\n",
              "      <div>\n",
              "<style scoped>\n",
              "    .dataframe tbody tr th:only-of-type {\n",
              "        vertical-align: middle;\n",
              "    }\n",
              "\n",
              "    .dataframe tbody tr th {\n",
              "        vertical-align: top;\n",
              "    }\n",
              "\n",
              "    .dataframe thead th {\n",
              "        text-align: right;\n",
              "    }\n",
              "</style>\n",
              "<table border=\"1\" class=\"dataframe\">\n",
              "  <thead>\n",
              "    <tr style=\"text-align: right;\">\n",
              "      <th></th>\n",
              "      <th>PropertyID</th>\n",
              "      <th>Borough</th>\n",
              "      <th>State</th>\n",
              "      <th>Surroundings</th>\n",
              "      <th>Address</th>\n",
              "      <th>ZipCode</th>\n",
              "      <th>Block</th>\n",
              "      <th>Lot</th>\n",
              "      <th>BldgClassCategory</th>\n",
              "      <th>NoOfResidentialUnits</th>\n",
              "      <th>NoOfCommercialUnits</th>\n",
              "      <th>TotalNoOfUnits</th>\n",
              "      <th>LandAreaInSqFt</th>\n",
              "      <th>GrossAreaInSqFt</th>\n",
              "      <th>YearOfConstruction</th>\n",
              "      <th>TaxClass_AtEvaluationTime</th>\n",
              "      <th>BldgClass_AtEvaluationTime</th>\n",
              "      <th>DateOfEvaluation</th>\n",
              "    </tr>\n",
              "  </thead>\n",
              "  <tbody>\n",
              "    <tr>\n",
              "      <th>0</th>\n",
              "      <td>PR51101</td>\n",
              "      <td>1</td>\n",
              "      <td>NY</td>\n",
              "      <td>BATHGATE</td>\n",
              "      <td>3860 3 AVENUE</td>\n",
              "      <td>10457</td>\n",
              "      <td>2929</td>\n",
              "      <td>117</td>\n",
              "      <td>02  TWO FAMILY HOMES</td>\n",
              "      <td>2</td>\n",
              "      <td>0</td>\n",
              "      <td>2</td>\n",
              "      <td>2498</td>\n",
              "      <td>2394</td>\n",
              "      <td>1995</td>\n",
              "      <td>1</td>\n",
              "      <td>B1</td>\n",
              "      <td>2013-06-24</td>\n",
              "    </tr>\n",
              "    <tr>\n",
              "      <th>1</th>\n",
              "      <td>PR51102</td>\n",
              "      <td>1</td>\n",
              "      <td>NY</td>\n",
              "      <td>BATHGATE</td>\n",
              "      <td>455 E. 179TH STREET</td>\n",
              "      <td>10457</td>\n",
              "      <td>3036</td>\n",
              "      <td>65</td>\n",
              "      <td>02 TWO FAMILY DWELLINGS</td>\n",
              "      <td>2</td>\n",
              "      <td>0</td>\n",
              "      <td>2</td>\n",
              "      <td>2033</td>\n",
              "      <td>2340</td>\n",
              "      <td>1994</td>\n",
              "      <td>1</td>\n",
              "      <td>B1</td>\n",
              "      <td>2014-08-28</td>\n",
              "    </tr>\n",
              "    <tr>\n",
              "      <th>2</th>\n",
              "      <td>PR51103</td>\n",
              "      <td>1</td>\n",
              "      <td>NY</td>\n",
              "      <td>BATHGATE</td>\n",
              "      <td>4415 3 AVENUE</td>\n",
              "      <td>10457</td>\n",
              "      <td>3048</td>\n",
              "      <td>51</td>\n",
              "      <td>14 RENTALS - 4-10 UNIT</td>\n",
              "      <td>4</td>\n",
              "      <td>1</td>\n",
              "      <td>5</td>\n",
              "      <td>2500</td>\n",
              "      <td>6000</td>\n",
              "      <td>1963</td>\n",
              "      <td>2</td>\n",
              "      <td>S4</td>\n",
              "      <td>2015-01-31</td>\n",
              "    </tr>\n",
              "    <tr>\n",
              "      <th>3</th>\n",
              "      <td>PR51104</td>\n",
              "      <td>1</td>\n",
              "      <td>NY</td>\n",
              "      <td>BATHGATE</td>\n",
              "      <td>407 EAST 174 STREET</td>\n",
              "      <td>10457</td>\n",
              "      <td>2899</td>\n",
              "      <td>34</td>\n",
              "      <td>30 WAREHOUSES</td>\n",
              "      <td>0</td>\n",
              "      <td>1</td>\n",
              "      <td>1</td>\n",
              "      <td>3439</td>\n",
              "      <td>3320</td>\n",
              "      <td>1951</td>\n",
              "      <td>4</td>\n",
              "      <td>E1</td>\n",
              "      <td>2015-03-12</td>\n",
              "    </tr>\n",
              "    <tr>\n",
              "      <th>4</th>\n",
              "      <td>PR51105</td>\n",
              "      <td>1</td>\n",
              "      <td>NY</td>\n",
              "      <td>EAST TREMONT</td>\n",
              "      <td>2175 CROTONA AVENUE</td>\n",
              "      <td>10457</td>\n",
              "      <td>3083</td>\n",
              "      <td>40</td>\n",
              "      <td>03 THREE FAMILY DWELLINGS</td>\n",
              "      <td>3</td>\n",
              "      <td>0</td>\n",
              "      <td>3</td>\n",
              "      <td>1348</td>\n",
              "      <td>2931</td>\n",
              "      <td>1997</td>\n",
              "      <td>1</td>\n",
              "      <td>C0</td>\n",
              "      <td>2014-06-07</td>\n",
              "    </tr>\n",
              "  </tbody>\n",
              "</table>\n",
              "</div>\n",
              "      <button class=\"colab-df-convert\" onclick=\"convertToInteractive('df-b60deac6-52e5-4aa0-8b3a-996f11e13ce4')\"\n",
              "              title=\"Convert this dataframe to an interactive table.\"\n",
              "              style=\"display:none;\">\n",
              "        \n",
              "  <svg xmlns=\"http://www.w3.org/2000/svg\" height=\"24px\"viewBox=\"0 0 24 24\"\n",
              "       width=\"24px\">\n",
              "    <path d=\"M0 0h24v24H0V0z\" fill=\"none\"/>\n",
              "    <path d=\"M18.56 5.44l.94 2.06.94-2.06 2.06-.94-2.06-.94-.94-2.06-.94 2.06-2.06.94zm-11 1L8.5 8.5l.94-2.06 2.06-.94-2.06-.94L8.5 2.5l-.94 2.06-2.06.94zm10 10l.94 2.06.94-2.06 2.06-.94-2.06-.94-.94-2.06-.94 2.06-2.06.94z\"/><path d=\"M17.41 7.96l-1.37-1.37c-.4-.4-.92-.59-1.43-.59-.52 0-1.04.2-1.43.59L10.3 9.45l-7.72 7.72c-.78.78-.78 2.05 0 2.83L4 21.41c.39.39.9.59 1.41.59.51 0 1.02-.2 1.41-.59l7.78-7.78 2.81-2.81c.8-.78.8-2.07 0-2.86zM5.41 20L4 18.59l7.72-7.72 1.47 1.35L5.41 20z\"/>\n",
              "  </svg>\n",
              "      </button>\n",
              "      \n",
              "  <style>\n",
              "    .colab-df-container {\n",
              "      display:flex;\n",
              "      flex-wrap:wrap;\n",
              "      gap: 12px;\n",
              "    }\n",
              "\n",
              "    .colab-df-convert {\n",
              "      background-color: #E8F0FE;\n",
              "      border: none;\n",
              "      border-radius: 50%;\n",
              "      cursor: pointer;\n",
              "      display: none;\n",
              "      fill: #1967D2;\n",
              "      height: 32px;\n",
              "      padding: 0 0 0 0;\n",
              "      width: 32px;\n",
              "    }\n",
              "\n",
              "    .colab-df-convert:hover {\n",
              "      background-color: #E2EBFA;\n",
              "      box-shadow: 0px 1px 2px rgba(60, 64, 67, 0.3), 0px 1px 3px 1px rgba(60, 64, 67, 0.15);\n",
              "      fill: #174EA6;\n",
              "    }\n",
              "\n",
              "    [theme=dark] .colab-df-convert {\n",
              "      background-color: #3B4455;\n",
              "      fill: #D2E3FC;\n",
              "    }\n",
              "\n",
              "    [theme=dark] .colab-df-convert:hover {\n",
              "      background-color: #434B5C;\n",
              "      box-shadow: 0px 1px 3px 1px rgba(0, 0, 0, 0.15);\n",
              "      filter: drop-shadow(0px 1px 2px rgba(0, 0, 0, 0.3));\n",
              "      fill: #FFFFFF;\n",
              "    }\n",
              "  </style>\n",
              "\n",
              "      <script>\n",
              "        const buttonEl =\n",
              "          document.querySelector('#df-b60deac6-52e5-4aa0-8b3a-996f11e13ce4 button.colab-df-convert');\n",
              "        buttonEl.style.display =\n",
              "          google.colab.kernel.accessAllowed ? 'block' : 'none';\n",
              "\n",
              "        async function convertToInteractive(key) {\n",
              "          const element = document.querySelector('#df-b60deac6-52e5-4aa0-8b3a-996f11e13ce4');\n",
              "          const dataTable =\n",
              "            await google.colab.kernel.invokeFunction('convertToInteractive',\n",
              "                                                     [key], {});\n",
              "          if (!dataTable) return;\n",
              "\n",
              "          const docLinkHtml = 'Like what you see? Visit the ' +\n",
              "            '<a target=\"_blank\" href=https://colab.research.google.com/notebooks/data_table.ipynb>data table notebook</a>'\n",
              "            + ' to learn more about interactive tables.';\n",
              "          element.innerHTML = '';\n",
              "          dataTable['output_type'] = 'display_data';\n",
              "          await google.colab.output.renderOutput(dataTable, element);\n",
              "          const docLink = document.createElement('div');\n",
              "          docLink.innerHTML = docLinkHtml;\n",
              "          element.appendChild(docLink);\n",
              "        }\n",
              "      </script>\n",
              "    </div>\n",
              "  </div>\n",
              "  "
            ]
          },
          "metadata": {},
          "execution_count": 599
        }
      ]
    },
    {
      "cell_type": "code",
      "source": [
        "df.shape,df_test.shape"
      ],
      "metadata": {
        "colab": {
          "base_uri": "https://localhost:8080/"
        },
        "id": "nuvW4hJqpmUo",
        "outputId": "70aed90b-1fa7-453a-82f4-cc3c3328057b"
      },
      "execution_count": 600,
      "outputs": [
        {
          "output_type": "execute_result",
          "data": {
            "text/plain": [
              "((16810, 19), (2936, 18))"
            ]
          },
          "metadata": {},
          "execution_count": 600
        }
      ]
    },
    {
      "cell_type": "code",
      "source": [
        "df.tail()"
      ],
      "metadata": {
        "colab": {
          "base_uri": "https://localhost:8080/",
          "height": 461
        },
        "id": "mZPjRALtpqfb",
        "outputId": "25511c93-7630-4603-f4cb-72461a83d17d"
      },
      "execution_count": 601,
      "outputs": [
        {
          "output_type": "execute_result",
          "data": {
            "text/plain": [
              "      PropertyID  Borough State  Surroundings               Address  ZipCode  \\\n",
              "16805    PR27906        4    NY  CIVIC CENTER         30 PARK PLACE    10007   \n",
              "16806    PR27907        4    NY  CIVIC CENTER     56 LEONARD STREET    10013   \n",
              "16807    PR27908        4    NY  CIVIC CENTER     56 LEONARD STREET    10013   \n",
              "16808    PR27909        4    NY       TRIBECA  250 SOUTH END AVENUE    10280   \n",
              "16809    PR27910        4    NY  HARLEM-UPPER   415 WEST 150 STREET    10031   \n",
              "\n",
              "       Block   Lot                  BldgClassCategory  NoOfResidentialUnits  \\\n",
              "16805    123  1213    13 CONDOS - ELEVATOR APARTMENTS                     1   \n",
              "16806    176  1054    13 CONDOS - ELEVATOR APARTMENTS                     1   \n",
              "16807    176  1102    13 CONDOS - ELEVATOR APARTMENTS                     1   \n",
              "16808     16  2249    13 CONDOS - ELEVATOR APARTMENTS                     1   \n",
              "16809   2065    22  08  RENTALS - ELEVATOR APARTMENTS                    16   \n",
              "\n",
              "       NoOfCommercialUnits  TotalNoOfUnits  LandAreaInSqFt  GrossAreaInSqFt  \\\n",
              "16805                    0               1           29715             2803   \n",
              "16806                    0               1           12518             2252   \n",
              "16807                    0               1           12518             2177   \n",
              "16808                    0               1           12644              594   \n",
              "16809                    1              17            4996            29529   \n",
              "\n",
              "       YearOfConstruction  TaxClass_AtEvaluationTime  \\\n",
              "16805                2004                          2   \n",
              "16806                2003                          2   \n",
              "16807                2003                          2   \n",
              "16808                1981                          2   \n",
              "16809                2007                          2   \n",
              "\n",
              "      BldgClass_AtEvaluationTime DateOfEvaluation  PropertyEvaluationvalue  \n",
              "16805                         R4       2014-11-30                  8454562  \n",
              "16806                         R4       2014-12-19                  6250000  \n",
              "16807                         R4       2014-11-16                  7150000  \n",
              "16808                         R4       2014-09-17                   550000  \n",
              "16809                         D7       2013-03-22                  5000000  "
            ],
            "text/html": [
              "\n",
              "  <div id=\"df-bfb215a0-b75a-492f-bbe9-644a252adeaa\">\n",
              "    <div class=\"colab-df-container\">\n",
              "      <div>\n",
              "<style scoped>\n",
              "    .dataframe tbody tr th:only-of-type {\n",
              "        vertical-align: middle;\n",
              "    }\n",
              "\n",
              "    .dataframe tbody tr th {\n",
              "        vertical-align: top;\n",
              "    }\n",
              "\n",
              "    .dataframe thead th {\n",
              "        text-align: right;\n",
              "    }\n",
              "</style>\n",
              "<table border=\"1\" class=\"dataframe\">\n",
              "  <thead>\n",
              "    <tr style=\"text-align: right;\">\n",
              "      <th></th>\n",
              "      <th>PropertyID</th>\n",
              "      <th>Borough</th>\n",
              "      <th>State</th>\n",
              "      <th>Surroundings</th>\n",
              "      <th>Address</th>\n",
              "      <th>ZipCode</th>\n",
              "      <th>Block</th>\n",
              "      <th>Lot</th>\n",
              "      <th>BldgClassCategory</th>\n",
              "      <th>NoOfResidentialUnits</th>\n",
              "      <th>NoOfCommercialUnits</th>\n",
              "      <th>TotalNoOfUnits</th>\n",
              "      <th>LandAreaInSqFt</th>\n",
              "      <th>GrossAreaInSqFt</th>\n",
              "      <th>YearOfConstruction</th>\n",
              "      <th>TaxClass_AtEvaluationTime</th>\n",
              "      <th>BldgClass_AtEvaluationTime</th>\n",
              "      <th>DateOfEvaluation</th>\n",
              "      <th>PropertyEvaluationvalue</th>\n",
              "    </tr>\n",
              "  </thead>\n",
              "  <tbody>\n",
              "    <tr>\n",
              "      <th>16805</th>\n",
              "      <td>PR27906</td>\n",
              "      <td>4</td>\n",
              "      <td>NY</td>\n",
              "      <td>CIVIC CENTER</td>\n",
              "      <td>30 PARK PLACE</td>\n",
              "      <td>10007</td>\n",
              "      <td>123</td>\n",
              "      <td>1213</td>\n",
              "      <td>13 CONDOS - ELEVATOR APARTMENTS</td>\n",
              "      <td>1</td>\n",
              "      <td>0</td>\n",
              "      <td>1</td>\n",
              "      <td>29715</td>\n",
              "      <td>2803</td>\n",
              "      <td>2004</td>\n",
              "      <td>2</td>\n",
              "      <td>R4</td>\n",
              "      <td>2014-11-30</td>\n",
              "      <td>8454562</td>\n",
              "    </tr>\n",
              "    <tr>\n",
              "      <th>16806</th>\n",
              "      <td>PR27907</td>\n",
              "      <td>4</td>\n",
              "      <td>NY</td>\n",
              "      <td>CIVIC CENTER</td>\n",
              "      <td>56 LEONARD STREET</td>\n",
              "      <td>10013</td>\n",
              "      <td>176</td>\n",
              "      <td>1054</td>\n",
              "      <td>13 CONDOS - ELEVATOR APARTMENTS</td>\n",
              "      <td>1</td>\n",
              "      <td>0</td>\n",
              "      <td>1</td>\n",
              "      <td>12518</td>\n",
              "      <td>2252</td>\n",
              "      <td>2003</td>\n",
              "      <td>2</td>\n",
              "      <td>R4</td>\n",
              "      <td>2014-12-19</td>\n",
              "      <td>6250000</td>\n",
              "    </tr>\n",
              "    <tr>\n",
              "      <th>16807</th>\n",
              "      <td>PR27908</td>\n",
              "      <td>4</td>\n",
              "      <td>NY</td>\n",
              "      <td>CIVIC CENTER</td>\n",
              "      <td>56 LEONARD STREET</td>\n",
              "      <td>10013</td>\n",
              "      <td>176</td>\n",
              "      <td>1102</td>\n",
              "      <td>13 CONDOS - ELEVATOR APARTMENTS</td>\n",
              "      <td>1</td>\n",
              "      <td>0</td>\n",
              "      <td>1</td>\n",
              "      <td>12518</td>\n",
              "      <td>2177</td>\n",
              "      <td>2003</td>\n",
              "      <td>2</td>\n",
              "      <td>R4</td>\n",
              "      <td>2014-11-16</td>\n",
              "      <td>7150000</td>\n",
              "    </tr>\n",
              "    <tr>\n",
              "      <th>16808</th>\n",
              "      <td>PR27909</td>\n",
              "      <td>4</td>\n",
              "      <td>NY</td>\n",
              "      <td>TRIBECA</td>\n",
              "      <td>250 SOUTH END AVENUE</td>\n",
              "      <td>10280</td>\n",
              "      <td>16</td>\n",
              "      <td>2249</td>\n",
              "      <td>13 CONDOS - ELEVATOR APARTMENTS</td>\n",
              "      <td>1</td>\n",
              "      <td>0</td>\n",
              "      <td>1</td>\n",
              "      <td>12644</td>\n",
              "      <td>594</td>\n",
              "      <td>1981</td>\n",
              "      <td>2</td>\n",
              "      <td>R4</td>\n",
              "      <td>2014-09-17</td>\n",
              "      <td>550000</td>\n",
              "    </tr>\n",
              "    <tr>\n",
              "      <th>16809</th>\n",
              "      <td>PR27910</td>\n",
              "      <td>4</td>\n",
              "      <td>NY</td>\n",
              "      <td>HARLEM-UPPER</td>\n",
              "      <td>415 WEST 150 STREET</td>\n",
              "      <td>10031</td>\n",
              "      <td>2065</td>\n",
              "      <td>22</td>\n",
              "      <td>08  RENTALS - ELEVATOR APARTMENTS</td>\n",
              "      <td>16</td>\n",
              "      <td>1</td>\n",
              "      <td>17</td>\n",
              "      <td>4996</td>\n",
              "      <td>29529</td>\n",
              "      <td>2007</td>\n",
              "      <td>2</td>\n",
              "      <td>D7</td>\n",
              "      <td>2013-03-22</td>\n",
              "      <td>5000000</td>\n",
              "    </tr>\n",
              "  </tbody>\n",
              "</table>\n",
              "</div>\n",
              "      <button class=\"colab-df-convert\" onclick=\"convertToInteractive('df-bfb215a0-b75a-492f-bbe9-644a252adeaa')\"\n",
              "              title=\"Convert this dataframe to an interactive table.\"\n",
              "              style=\"display:none;\">\n",
              "        \n",
              "  <svg xmlns=\"http://www.w3.org/2000/svg\" height=\"24px\"viewBox=\"0 0 24 24\"\n",
              "       width=\"24px\">\n",
              "    <path d=\"M0 0h24v24H0V0z\" fill=\"none\"/>\n",
              "    <path d=\"M18.56 5.44l.94 2.06.94-2.06 2.06-.94-2.06-.94-.94-2.06-.94 2.06-2.06.94zm-11 1L8.5 8.5l.94-2.06 2.06-.94-2.06-.94L8.5 2.5l-.94 2.06-2.06.94zm10 10l.94 2.06.94-2.06 2.06-.94-2.06-.94-.94-2.06-.94 2.06-2.06.94z\"/><path d=\"M17.41 7.96l-1.37-1.37c-.4-.4-.92-.59-1.43-.59-.52 0-1.04.2-1.43.59L10.3 9.45l-7.72 7.72c-.78.78-.78 2.05 0 2.83L4 21.41c.39.39.9.59 1.41.59.51 0 1.02-.2 1.41-.59l7.78-7.78 2.81-2.81c.8-.78.8-2.07 0-2.86zM5.41 20L4 18.59l7.72-7.72 1.47 1.35L5.41 20z\"/>\n",
              "  </svg>\n",
              "      </button>\n",
              "      \n",
              "  <style>\n",
              "    .colab-df-container {\n",
              "      display:flex;\n",
              "      flex-wrap:wrap;\n",
              "      gap: 12px;\n",
              "    }\n",
              "\n",
              "    .colab-df-convert {\n",
              "      background-color: #E8F0FE;\n",
              "      border: none;\n",
              "      border-radius: 50%;\n",
              "      cursor: pointer;\n",
              "      display: none;\n",
              "      fill: #1967D2;\n",
              "      height: 32px;\n",
              "      padding: 0 0 0 0;\n",
              "      width: 32px;\n",
              "    }\n",
              "\n",
              "    .colab-df-convert:hover {\n",
              "      background-color: #E2EBFA;\n",
              "      box-shadow: 0px 1px 2px rgba(60, 64, 67, 0.3), 0px 1px 3px 1px rgba(60, 64, 67, 0.15);\n",
              "      fill: #174EA6;\n",
              "    }\n",
              "\n",
              "    [theme=dark] .colab-df-convert {\n",
              "      background-color: #3B4455;\n",
              "      fill: #D2E3FC;\n",
              "    }\n",
              "\n",
              "    [theme=dark] .colab-df-convert:hover {\n",
              "      background-color: #434B5C;\n",
              "      box-shadow: 0px 1px 3px 1px rgba(0, 0, 0, 0.15);\n",
              "      filter: drop-shadow(0px 1px 2px rgba(0, 0, 0, 0.3));\n",
              "      fill: #FFFFFF;\n",
              "    }\n",
              "  </style>\n",
              "\n",
              "      <script>\n",
              "        const buttonEl =\n",
              "          document.querySelector('#df-bfb215a0-b75a-492f-bbe9-644a252adeaa button.colab-df-convert');\n",
              "        buttonEl.style.display =\n",
              "          google.colab.kernel.accessAllowed ? 'block' : 'none';\n",
              "\n",
              "        async function convertToInteractive(key) {\n",
              "          const element = document.querySelector('#df-bfb215a0-b75a-492f-bbe9-644a252adeaa');\n",
              "          const dataTable =\n",
              "            await google.colab.kernel.invokeFunction('convertToInteractive',\n",
              "                                                     [key], {});\n",
              "          if (!dataTable) return;\n",
              "\n",
              "          const docLinkHtml = 'Like what you see? Visit the ' +\n",
              "            '<a target=\"_blank\" href=https://colab.research.google.com/notebooks/data_table.ipynb>data table notebook</a>'\n",
              "            + ' to learn more about interactive tables.';\n",
              "          element.innerHTML = '';\n",
              "          dataTable['output_type'] = 'display_data';\n",
              "          await google.colab.output.renderOutput(dataTable, element);\n",
              "          const docLink = document.createElement('div');\n",
              "          docLink.innerHTML = docLinkHtml;\n",
              "          element.appendChild(docLink);\n",
              "        }\n",
              "      </script>\n",
              "    </div>\n",
              "  </div>\n",
              "  "
            ]
          },
          "metadata": {},
          "execution_count": 601
        }
      ]
    },
    {
      "cell_type": "code",
      "source": [
        "df.describe()"
      ],
      "metadata": {
        "colab": {
          "base_uri": "https://localhost:8080/",
          "height": 364
        },
        "id": "eFMFONF4q4c3",
        "outputId": "d0ae57e2-8174-4a1d-dd4c-33d2e5682586"
      },
      "execution_count": 602,
      "outputs": [
        {
          "output_type": "execute_result",
          "data": {
            "text/plain": [
              "            Borough       ZipCode         Block           Lot  \\\n",
              "count  16810.000000  16810.000000  16810.000000  16810.000000   \n",
              "mean       3.439143  10871.027543   5428.122308    266.327722   \n",
              "std        1.398950    522.996869   3710.031921    542.420132   \n",
              "min        1.000000  10001.000000      6.000000      1.000000   \n",
              "25%        2.000000  10312.000000   2401.250000     25.000000   \n",
              "50%        3.000000  11207.000000   5050.000000     52.000000   \n",
              "75%        5.000000  11364.000000   7376.750000    138.000000   \n",
              "max        5.000000  11694.000000  16314.000000   5323.000000   \n",
              "\n",
              "       NoOfResidentialUnits  NoOfCommercialUnits  TotalNoOfUnits  \\\n",
              "count          16810.000000         16810.000000    16810.000000   \n",
              "mean               1.862225             0.137775        2.000000   \n",
              "std                8.027805             2.185857        8.472771   \n",
              "min                0.000000             0.000000        1.000000   \n",
              "25%                1.000000             0.000000        1.000000   \n",
              "50%                1.000000             0.000000        1.000000   \n",
              "75%                2.000000             0.000000        2.000000   \n",
              "max              437.000000           252.000000      437.000000   \n",
              "\n",
              "       LandAreaInSqFt  GrossAreaInSqFt  YearOfConstruction  \\\n",
              "count    1.681000e+04     1.681000e+04        16810.000000   \n",
              "mean     1.092492e+04     3.612157e+03         1973.982867   \n",
              "std      5.837620e+04     1.627378e+04           23.632595   \n",
              "min      1.000000e+00     1.000000e+00         1941.000000   \n",
              "25%      2.100000e+03     1.224000e+03         1951.000000   \n",
              "50%      3.200000e+03     1.750000e+03         1968.000000   \n",
              "75%      5.000000e+03     2.449750e+03         1998.000000   \n",
              "max      5.612000e+06     1.172005e+06         2012.000000   \n",
              "\n",
              "       TaxClass_AtEvaluationTime  PropertyEvaluationvalue  \n",
              "count               16810.000000             1.681000e+04  \n",
              "mean                    1.289530             8.084101e+05  \n",
              "std                     0.713779             8.978317e+05  \n",
              "min                     1.000000             1.000440e+05  \n",
              "25%                     1.000000             4.250000e+05  \n",
              "50%                     1.000000             5.900000e+05  \n",
              "75%                     1.000000             8.450000e+05  \n",
              "max                     4.000000             9.935000e+06  "
            ],
            "text/html": [
              "\n",
              "  <div id=\"df-7a4af595-acf6-4f90-82f6-2f0efea11fb7\">\n",
              "    <div class=\"colab-df-container\">\n",
              "      <div>\n",
              "<style scoped>\n",
              "    .dataframe tbody tr th:only-of-type {\n",
              "        vertical-align: middle;\n",
              "    }\n",
              "\n",
              "    .dataframe tbody tr th {\n",
              "        vertical-align: top;\n",
              "    }\n",
              "\n",
              "    .dataframe thead th {\n",
              "        text-align: right;\n",
              "    }\n",
              "</style>\n",
              "<table border=\"1\" class=\"dataframe\">\n",
              "  <thead>\n",
              "    <tr style=\"text-align: right;\">\n",
              "      <th></th>\n",
              "      <th>Borough</th>\n",
              "      <th>ZipCode</th>\n",
              "      <th>Block</th>\n",
              "      <th>Lot</th>\n",
              "      <th>NoOfResidentialUnits</th>\n",
              "      <th>NoOfCommercialUnits</th>\n",
              "      <th>TotalNoOfUnits</th>\n",
              "      <th>LandAreaInSqFt</th>\n",
              "      <th>GrossAreaInSqFt</th>\n",
              "      <th>YearOfConstruction</th>\n",
              "      <th>TaxClass_AtEvaluationTime</th>\n",
              "      <th>PropertyEvaluationvalue</th>\n",
              "    </tr>\n",
              "  </thead>\n",
              "  <tbody>\n",
              "    <tr>\n",
              "      <th>count</th>\n",
              "      <td>16810.000000</td>\n",
              "      <td>16810.000000</td>\n",
              "      <td>16810.000000</td>\n",
              "      <td>16810.000000</td>\n",
              "      <td>16810.000000</td>\n",
              "      <td>16810.000000</td>\n",
              "      <td>16810.000000</td>\n",
              "      <td>1.681000e+04</td>\n",
              "      <td>1.681000e+04</td>\n",
              "      <td>16810.000000</td>\n",
              "      <td>16810.000000</td>\n",
              "      <td>1.681000e+04</td>\n",
              "    </tr>\n",
              "    <tr>\n",
              "      <th>mean</th>\n",
              "      <td>3.439143</td>\n",
              "      <td>10871.027543</td>\n",
              "      <td>5428.122308</td>\n",
              "      <td>266.327722</td>\n",
              "      <td>1.862225</td>\n",
              "      <td>0.137775</td>\n",
              "      <td>2.000000</td>\n",
              "      <td>1.092492e+04</td>\n",
              "      <td>3.612157e+03</td>\n",
              "      <td>1973.982867</td>\n",
              "      <td>1.289530</td>\n",
              "      <td>8.084101e+05</td>\n",
              "    </tr>\n",
              "    <tr>\n",
              "      <th>std</th>\n",
              "      <td>1.398950</td>\n",
              "      <td>522.996869</td>\n",
              "      <td>3710.031921</td>\n",
              "      <td>542.420132</td>\n",
              "      <td>8.027805</td>\n",
              "      <td>2.185857</td>\n",
              "      <td>8.472771</td>\n",
              "      <td>5.837620e+04</td>\n",
              "      <td>1.627378e+04</td>\n",
              "      <td>23.632595</td>\n",
              "      <td>0.713779</td>\n",
              "      <td>8.978317e+05</td>\n",
              "    </tr>\n",
              "    <tr>\n",
              "      <th>min</th>\n",
              "      <td>1.000000</td>\n",
              "      <td>10001.000000</td>\n",
              "      <td>6.000000</td>\n",
              "      <td>1.000000</td>\n",
              "      <td>0.000000</td>\n",
              "      <td>0.000000</td>\n",
              "      <td>1.000000</td>\n",
              "      <td>1.000000e+00</td>\n",
              "      <td>1.000000e+00</td>\n",
              "      <td>1941.000000</td>\n",
              "      <td>1.000000</td>\n",
              "      <td>1.000440e+05</td>\n",
              "    </tr>\n",
              "    <tr>\n",
              "      <th>25%</th>\n",
              "      <td>2.000000</td>\n",
              "      <td>10312.000000</td>\n",
              "      <td>2401.250000</td>\n",
              "      <td>25.000000</td>\n",
              "      <td>1.000000</td>\n",
              "      <td>0.000000</td>\n",
              "      <td>1.000000</td>\n",
              "      <td>2.100000e+03</td>\n",
              "      <td>1.224000e+03</td>\n",
              "      <td>1951.000000</td>\n",
              "      <td>1.000000</td>\n",
              "      <td>4.250000e+05</td>\n",
              "    </tr>\n",
              "    <tr>\n",
              "      <th>50%</th>\n",
              "      <td>3.000000</td>\n",
              "      <td>11207.000000</td>\n",
              "      <td>5050.000000</td>\n",
              "      <td>52.000000</td>\n",
              "      <td>1.000000</td>\n",
              "      <td>0.000000</td>\n",
              "      <td>1.000000</td>\n",
              "      <td>3.200000e+03</td>\n",
              "      <td>1.750000e+03</td>\n",
              "      <td>1968.000000</td>\n",
              "      <td>1.000000</td>\n",
              "      <td>5.900000e+05</td>\n",
              "    </tr>\n",
              "    <tr>\n",
              "      <th>75%</th>\n",
              "      <td>5.000000</td>\n",
              "      <td>11364.000000</td>\n",
              "      <td>7376.750000</td>\n",
              "      <td>138.000000</td>\n",
              "      <td>2.000000</td>\n",
              "      <td>0.000000</td>\n",
              "      <td>2.000000</td>\n",
              "      <td>5.000000e+03</td>\n",
              "      <td>2.449750e+03</td>\n",
              "      <td>1998.000000</td>\n",
              "      <td>1.000000</td>\n",
              "      <td>8.450000e+05</td>\n",
              "    </tr>\n",
              "    <tr>\n",
              "      <th>max</th>\n",
              "      <td>5.000000</td>\n",
              "      <td>11694.000000</td>\n",
              "      <td>16314.000000</td>\n",
              "      <td>5323.000000</td>\n",
              "      <td>437.000000</td>\n",
              "      <td>252.000000</td>\n",
              "      <td>437.000000</td>\n",
              "      <td>5.612000e+06</td>\n",
              "      <td>1.172005e+06</td>\n",
              "      <td>2012.000000</td>\n",
              "      <td>4.000000</td>\n",
              "      <td>9.935000e+06</td>\n",
              "    </tr>\n",
              "  </tbody>\n",
              "</table>\n",
              "</div>\n",
              "      <button class=\"colab-df-convert\" onclick=\"convertToInteractive('df-7a4af595-acf6-4f90-82f6-2f0efea11fb7')\"\n",
              "              title=\"Convert this dataframe to an interactive table.\"\n",
              "              style=\"display:none;\">\n",
              "        \n",
              "  <svg xmlns=\"http://www.w3.org/2000/svg\" height=\"24px\"viewBox=\"0 0 24 24\"\n",
              "       width=\"24px\">\n",
              "    <path d=\"M0 0h24v24H0V0z\" fill=\"none\"/>\n",
              "    <path d=\"M18.56 5.44l.94 2.06.94-2.06 2.06-.94-2.06-.94-.94-2.06-.94 2.06-2.06.94zm-11 1L8.5 8.5l.94-2.06 2.06-.94-2.06-.94L8.5 2.5l-.94 2.06-2.06.94zm10 10l.94 2.06.94-2.06 2.06-.94-2.06-.94-.94-2.06-.94 2.06-2.06.94z\"/><path d=\"M17.41 7.96l-1.37-1.37c-.4-.4-.92-.59-1.43-.59-.52 0-1.04.2-1.43.59L10.3 9.45l-7.72 7.72c-.78.78-.78 2.05 0 2.83L4 21.41c.39.39.9.59 1.41.59.51 0 1.02-.2 1.41-.59l7.78-7.78 2.81-2.81c.8-.78.8-2.07 0-2.86zM5.41 20L4 18.59l7.72-7.72 1.47 1.35L5.41 20z\"/>\n",
              "  </svg>\n",
              "      </button>\n",
              "      \n",
              "  <style>\n",
              "    .colab-df-container {\n",
              "      display:flex;\n",
              "      flex-wrap:wrap;\n",
              "      gap: 12px;\n",
              "    }\n",
              "\n",
              "    .colab-df-convert {\n",
              "      background-color: #E8F0FE;\n",
              "      border: none;\n",
              "      border-radius: 50%;\n",
              "      cursor: pointer;\n",
              "      display: none;\n",
              "      fill: #1967D2;\n",
              "      height: 32px;\n",
              "      padding: 0 0 0 0;\n",
              "      width: 32px;\n",
              "    }\n",
              "\n",
              "    .colab-df-convert:hover {\n",
              "      background-color: #E2EBFA;\n",
              "      box-shadow: 0px 1px 2px rgba(60, 64, 67, 0.3), 0px 1px 3px 1px rgba(60, 64, 67, 0.15);\n",
              "      fill: #174EA6;\n",
              "    }\n",
              "\n",
              "    [theme=dark] .colab-df-convert {\n",
              "      background-color: #3B4455;\n",
              "      fill: #D2E3FC;\n",
              "    }\n",
              "\n",
              "    [theme=dark] .colab-df-convert:hover {\n",
              "      background-color: #434B5C;\n",
              "      box-shadow: 0px 1px 3px 1px rgba(0, 0, 0, 0.15);\n",
              "      filter: drop-shadow(0px 1px 2px rgba(0, 0, 0, 0.3));\n",
              "      fill: #FFFFFF;\n",
              "    }\n",
              "  </style>\n",
              "\n",
              "      <script>\n",
              "        const buttonEl =\n",
              "          document.querySelector('#df-7a4af595-acf6-4f90-82f6-2f0efea11fb7 button.colab-df-convert');\n",
              "        buttonEl.style.display =\n",
              "          google.colab.kernel.accessAllowed ? 'block' : 'none';\n",
              "\n",
              "        async function convertToInteractive(key) {\n",
              "          const element = document.querySelector('#df-7a4af595-acf6-4f90-82f6-2f0efea11fb7');\n",
              "          const dataTable =\n",
              "            await google.colab.kernel.invokeFunction('convertToInteractive',\n",
              "                                                     [key], {});\n",
              "          if (!dataTable) return;\n",
              "\n",
              "          const docLinkHtml = 'Like what you see? Visit the ' +\n",
              "            '<a target=\"_blank\" href=https://colab.research.google.com/notebooks/data_table.ipynb>data table notebook</a>'\n",
              "            + ' to learn more about interactive tables.';\n",
              "          element.innerHTML = '';\n",
              "          dataTable['output_type'] = 'display_data';\n",
              "          await google.colab.output.renderOutput(dataTable, element);\n",
              "          const docLink = document.createElement('div');\n",
              "          docLink.innerHTML = docLinkHtml;\n",
              "          element.appendChild(docLink);\n",
              "        }\n",
              "      </script>\n",
              "    </div>\n",
              "  </div>\n",
              "  "
            ]
          },
          "metadata": {},
          "execution_count": 602
        }
      ]
    },
    {
      "cell_type": "code",
      "source": [
        "df.info()"
      ],
      "metadata": {
        "colab": {
          "base_uri": "https://localhost:8080/"
        },
        "id": "XhUUFMpfq7fb",
        "outputId": "76de0ab0-9295-40a3-a6b8-73a86bae13c3"
      },
      "execution_count": 603,
      "outputs": [
        {
          "output_type": "stream",
          "name": "stdout",
          "text": [
            "<class 'pandas.core.frame.DataFrame'>\n",
            "RangeIndex: 16810 entries, 0 to 16809\n",
            "Data columns (total 19 columns):\n",
            " #   Column                      Non-Null Count  Dtype         \n",
            "---  ------                      --------------  -----         \n",
            " 0   PropertyID                  16810 non-null  object        \n",
            " 1   Borough                     16810 non-null  int64         \n",
            " 2   State                       16810 non-null  object        \n",
            " 3   Surroundings                16810 non-null  object        \n",
            " 4   Address                     16810 non-null  object        \n",
            " 5   ZipCode                     16810 non-null  int64         \n",
            " 6   Block                       16810 non-null  int64         \n",
            " 7   Lot                         16810 non-null  int64         \n",
            " 8   BldgClassCategory           16810 non-null  object        \n",
            " 9   NoOfResidentialUnits        16810 non-null  int64         \n",
            " 10  NoOfCommercialUnits         16810 non-null  int64         \n",
            " 11  TotalNoOfUnits              16810 non-null  int64         \n",
            " 12  LandAreaInSqFt              16810 non-null  int64         \n",
            " 13  GrossAreaInSqFt             16810 non-null  int64         \n",
            " 14  YearOfConstruction          16810 non-null  int64         \n",
            " 15  TaxClass_AtEvaluationTime   16810 non-null  int64         \n",
            " 16  BldgClass_AtEvaluationTime  16810 non-null  object        \n",
            " 17  DateOfEvaluation            16810 non-null  datetime64[ns]\n",
            " 18  PropertyEvaluationvalue     16810 non-null  int64         \n",
            "dtypes: datetime64[ns](1), int64(12), object(6)\n",
            "memory usage: 2.4+ MB\n"
          ]
        }
      ]
    },
    {
      "cell_type": "markdown",
      "source": [
        "EXPLORATORY DATA ANALYSIS"
      ],
      "metadata": {
        "id": "kr66s3vns8S3"
      }
    },
    {
      "cell_type": "markdown",
      "source": [
        "Finding duplicate values in data"
      ],
      "metadata": {
        "id": "QnlDIR2VzFvR"
      }
    },
    {
      "cell_type": "code",
      "source": [
        "print(f\"Train data contains {df.duplicated().sum()} duplicated value\")\n",
        "print(f\"Test data contains {df_test.duplicated().sum()} duplicated value\")"
      ],
      "metadata": {
        "colab": {
          "base_uri": "https://localhost:8080/"
        },
        "id": "iaMjLYwxs-Da",
        "outputId": "01ba37d3-d8d9-449d-ef43-07be9e468a8c"
      },
      "execution_count": 604,
      "outputs": [
        {
          "output_type": "stream",
          "name": "stdout",
          "text": [
            "Train data contains 0 duplicated value\n",
            "Test data contains 0 duplicated value\n"
          ]
        }
      ]
    },
    {
      "cell_type": "code",
      "source": [
        "df.drop_duplicates(keep='first', inplace=True)"
      ],
      "metadata": {
        "id": "nGmDhXsbxPw-"
      },
      "execution_count": 605,
      "outputs": []
    },
    {
      "cell_type": "code",
      "source": [
        "df.duplicated().sum()"
      ],
      "metadata": {
        "colab": {
          "base_uri": "https://localhost:8080/"
        },
        "id": "9dwoJEKRxWLH",
        "outputId": "fbacd7eb-9556-4a72-b8ca-cd026acf3ff2"
      },
      "execution_count": 606,
      "outputs": [
        {
          "output_type": "execute_result",
          "data": {
            "text/plain": [
              "0"
            ]
          },
          "metadata": {},
          "execution_count": 606
        }
      ]
    },
    {
      "cell_type": "code",
      "source": [
        "df_test.duplicated().sum()"
      ],
      "metadata": {
        "colab": {
          "base_uri": "https://localhost:8080/"
        },
        "id": "7ChPEUFvxZ3U",
        "outputId": "2be6f4cb-e0a2-400f-e124-a7a8ce2c8e02"
      },
      "execution_count": 607,
      "outputs": [
        {
          "output_type": "execute_result",
          "data": {
            "text/plain": [
              "0"
            ]
          },
          "metadata": {},
          "execution_count": 607
        }
      ]
    },
    {
      "cell_type": "code",
      "source": [
        "#We can see that we dont have any duplicate entry in the data."
      ],
      "metadata": {
        "id": "mQ4_o6o8D85G"
      },
      "execution_count": 608,
      "outputs": []
    },
    {
      "cell_type": "markdown",
      "source": [
        "Missing value handling"
      ],
      "metadata": {
        "id": "3KqgtrHRwc_m"
      }
    },
    {
      "cell_type": "code",
      "source": [
        "df.isnull().sum().sum()"
      ],
      "metadata": {
        "colab": {
          "base_uri": "https://localhost:8080/"
        },
        "id": "-CGLDEk9uu4k",
        "outputId": "a508047d-58e3-4c43-fb81-160a6cc032a3"
      },
      "execution_count": 609,
      "outputs": [
        {
          "output_type": "execute_result",
          "data": {
            "text/plain": [
              "0"
            ]
          },
          "metadata": {},
          "execution_count": 609
        }
      ]
    },
    {
      "cell_type": "code",
      "source": [
        "df_test.isnull().sum().sum()"
      ],
      "metadata": {
        "colab": {
          "base_uri": "https://localhost:8080/"
        },
        "id": "Ezsw1XW5vnz3",
        "outputId": "f4222590-1612-4f85-e467-e8418cfbcf3a"
      },
      "execution_count": 610,
      "outputs": [
        {
          "output_type": "execute_result",
          "data": {
            "text/plain": [
              "0"
            ]
          },
          "metadata": {},
          "execution_count": 610
        }
      ]
    },
    {
      "cell_type": "markdown",
      "source": [
        "HANDLING CATEGORICAL DATA"
      ],
      "metadata": {
        "id": "vP4sr14vEivN"
      }
    },
    {
      "cell_type": "code",
      "source": [
        "print(df.State.unique())\n",
        "print(df_test.State.unique())"
      ],
      "metadata": {
        "colab": {
          "base_uri": "https://localhost:8080/"
        },
        "id": "EcTaNXqyD1Fr",
        "outputId": "88c282ea-e2e9-4147-e457-ad2f07d4ad49"
      },
      "execution_count": 611,
      "outputs": [
        {
          "output_type": "stream",
          "name": "stdout",
          "text": [
            "['NY']\n",
            "['NY']\n"
          ]
        }
      ]
    },
    {
      "cell_type": "code",
      "source": [
        "#State Column has only one unique value ,so we can drop this variable.\n",
        "df.drop(['State'],axis=1,inplace=True)\n",
        "df_test.drop(['State'],axis=1,inplace=True)\n"
      ],
      "metadata": {
        "id": "ZAXX6tWRFBhp"
      },
      "execution_count": 612,
      "outputs": []
    },
    {
      "cell_type": "code",
      "source": [
        "print(df.Address.unique())\n",
        "print(df_test.Address.unique())"
      ],
      "metadata": {
        "colab": {
          "base_uri": "https://localhost:8080/"
        },
        "id": "aQsSTW1OHj4q",
        "outputId": "f46a18c2-a55e-47e8-bd46-4630ed038059"
      },
      "execution_count": 613,
      "outputs": [
        {
          "output_type": "stream",
          "name": "stdout",
          "text": [
            "['1473 CROTONA PLACE' '453 EAST 181' '511 EAST 171 STREET' ...\n",
            " '510 EAST 80TH STREET' '56 LEONARD ST' '415 WEST 150 STREET']\n",
            "['3860 3 AVENUE' '455 E. 179TH STREET' '4415 3 AVENUE' ... '30 PARK PLACE'\n",
            " '77 READE STREET' '608 WEST 149 STREET']\n"
          ]
        }
      ]
    },
    {
      "cell_type": "code",
      "source": [
        "#Since address is not required as we can use zipcode instead.\n",
        "df.drop(['Address'],axis=1,inplace=True)\n",
        "df_test.drop(['Address'],axis=1,inplace=True)"
      ],
      "metadata": {
        "id": "yrcBg6JvHjzX"
      },
      "execution_count": 614,
      "outputs": []
    },
    {
      "cell_type": "markdown",
      "source": [
        "FEATURE ENGINEERING"
      ],
      "metadata": {
        "id": "JTll_nOBDHv4"
      }
    },
    {
      "cell_type": "code",
      "source": [
        "#using YearOfConstruction and DateOfEvaluation we can derive a new features as follows:"
      ],
      "metadata": {
        "id": "Ng4mywX-QeKl"
      },
      "execution_count": 615,
      "outputs": []
    },
    {
      "cell_type": "code",
      "source": [
        "from datetime import date\n",
        "import datetime"
      ],
      "metadata": {
        "id": "0bV_6h7rDWUT"
      },
      "execution_count": 616,
      "outputs": []
    },
    {
      "cell_type": "code",
      "source": [
        "# converting 'DateOfEvaluation' to datetime to extract the year\n",
        "df['DateOfEvaluation'] = pd.to_datetime(df['DateOfEvaluation'])\n",
        "df_test['DateOfEvaluation'] = pd.to_datetime(df_test['DateOfEvaluation'])"
      ],
      "metadata": {
        "id": "GiMl8f6QDLB_"
      },
      "execution_count": 617,
      "outputs": []
    },
    {
      "cell_type": "code",
      "source": [
        "df['yearOfEval'] = df['DateOfEvaluation'].dt.year\n",
        "df_test['yearOfEval'] = df_test['DateOfEvaluation'].dt.year"
      ],
      "metadata": {
        "id": "djbAbSBkPlHY"
      },
      "execution_count": 618,
      "outputs": []
    },
    {
      "cell_type": "code",
      "source": [
        "# Creating a new column 'age' of the property\n",
        "df['age']= df['yearOfEval']-df['YearOfConstruction']\n",
        "df_test['age']= df_test['yearOfEval']-df_test['YearOfConstruction']"
      ],
      "metadata": {
        "id": "a4Mh08N4OBF0"
      },
      "execution_count": 619,
      "outputs": []
    },
    {
      "cell_type": "code",
      "source": [
        "df.head()"
      ],
      "metadata": {
        "id": "hnMXOZpvOeJ6",
        "outputId": "62a082a0-625b-4848-a630-30cfa7b11bd0",
        "colab": {
          "base_uri": "https://localhost:8080/",
          "height": 357
        }
      },
      "execution_count": 620,
      "outputs": [
        {
          "output_type": "execute_result",
          "data": {
            "text/plain": [
              "  PropertyID  Borough Surroundings  ZipCode  Block  Lot  \\\n",
              "0    PR11101        1     BATHGATE    10456   2927  127   \n",
              "1    PR11102        1     BATHGATE    10457   3037  110   \n",
              "2    PR11103        1     BATHGATE    10457   2912  155   \n",
              "3    PR11104        1     BATHGATE    10457   2929  134   \n",
              "4    PR11105        1     BATHGATE    10457   3036  140   \n",
              "\n",
              "           BldgClassCategory  NoOfResidentialUnits  NoOfCommercialUnits  \\\n",
              "0    02 TWO FAMILY DWELLINGS                     2                    0   \n",
              "1  03 THREE FAMILY DWELLINGS                     3                    0   \n",
              "2    02 TWO FAMILY DWELLINGS                     2                    0   \n",
              "3    02 TWO FAMILY DWELLINGS                     2                    0   \n",
              "4    02 TWO FAMILY DWELLINGS                     2                    0   \n",
              "\n",
              "   TotalNoOfUnits  LandAreaInSqFt  GrossAreaInSqFt  YearOfConstruction  \\\n",
              "0               2            1900             2394                1990   \n",
              "1               3            1687             3037                2002   \n",
              "2               2            2000             2400                1989   \n",
              "3               2            2356             2394                1991   \n",
              "4               2            3346             2308                1993   \n",
              "\n",
              "   TaxClass_AtEvaluationTime BldgClass_AtEvaluationTime DateOfEvaluation  \\\n",
              "0                          1                         B1       2014-05-30   \n",
              "1                          1                         C0       2014-09-13   \n",
              "2                          1                         B1       2014-09-28   \n",
              "3                          1                         B1       2014-06-05   \n",
              "4                          1                         B1       2015-02-07   \n",
              "\n",
              "   PropertyEvaluationvalue  yearOfEval  age  \n",
              "0                   540000        2014   24  \n",
              "1                   750000        2014   12  \n",
              "2                   470000        2014   25  \n",
              "3                   570000        2014   23  \n",
              "4                   640000        2015   22  "
            ],
            "text/html": [
              "\n",
              "  <div id=\"df-3ab48dae-336b-4a17-8d2e-a11a3dbde625\">\n",
              "    <div class=\"colab-df-container\">\n",
              "      <div>\n",
              "<style scoped>\n",
              "    .dataframe tbody tr th:only-of-type {\n",
              "        vertical-align: middle;\n",
              "    }\n",
              "\n",
              "    .dataframe tbody tr th {\n",
              "        vertical-align: top;\n",
              "    }\n",
              "\n",
              "    .dataframe thead th {\n",
              "        text-align: right;\n",
              "    }\n",
              "</style>\n",
              "<table border=\"1\" class=\"dataframe\">\n",
              "  <thead>\n",
              "    <tr style=\"text-align: right;\">\n",
              "      <th></th>\n",
              "      <th>PropertyID</th>\n",
              "      <th>Borough</th>\n",
              "      <th>Surroundings</th>\n",
              "      <th>ZipCode</th>\n",
              "      <th>Block</th>\n",
              "      <th>Lot</th>\n",
              "      <th>BldgClassCategory</th>\n",
              "      <th>NoOfResidentialUnits</th>\n",
              "      <th>NoOfCommercialUnits</th>\n",
              "      <th>TotalNoOfUnits</th>\n",
              "      <th>LandAreaInSqFt</th>\n",
              "      <th>GrossAreaInSqFt</th>\n",
              "      <th>YearOfConstruction</th>\n",
              "      <th>TaxClass_AtEvaluationTime</th>\n",
              "      <th>BldgClass_AtEvaluationTime</th>\n",
              "      <th>DateOfEvaluation</th>\n",
              "      <th>PropertyEvaluationvalue</th>\n",
              "      <th>yearOfEval</th>\n",
              "      <th>age</th>\n",
              "    </tr>\n",
              "  </thead>\n",
              "  <tbody>\n",
              "    <tr>\n",
              "      <th>0</th>\n",
              "      <td>PR11101</td>\n",
              "      <td>1</td>\n",
              "      <td>BATHGATE</td>\n",
              "      <td>10456</td>\n",
              "      <td>2927</td>\n",
              "      <td>127</td>\n",
              "      <td>02 TWO FAMILY DWELLINGS</td>\n",
              "      <td>2</td>\n",
              "      <td>0</td>\n",
              "      <td>2</td>\n",
              "      <td>1900</td>\n",
              "      <td>2394</td>\n",
              "      <td>1990</td>\n",
              "      <td>1</td>\n",
              "      <td>B1</td>\n",
              "      <td>2014-05-30</td>\n",
              "      <td>540000</td>\n",
              "      <td>2014</td>\n",
              "      <td>24</td>\n",
              "    </tr>\n",
              "    <tr>\n",
              "      <th>1</th>\n",
              "      <td>PR11102</td>\n",
              "      <td>1</td>\n",
              "      <td>BATHGATE</td>\n",
              "      <td>10457</td>\n",
              "      <td>3037</td>\n",
              "      <td>110</td>\n",
              "      <td>03 THREE FAMILY DWELLINGS</td>\n",
              "      <td>3</td>\n",
              "      <td>0</td>\n",
              "      <td>3</td>\n",
              "      <td>1687</td>\n",
              "      <td>3037</td>\n",
              "      <td>2002</td>\n",
              "      <td>1</td>\n",
              "      <td>C0</td>\n",
              "      <td>2014-09-13</td>\n",
              "      <td>750000</td>\n",
              "      <td>2014</td>\n",
              "      <td>12</td>\n",
              "    </tr>\n",
              "    <tr>\n",
              "      <th>2</th>\n",
              "      <td>PR11103</td>\n",
              "      <td>1</td>\n",
              "      <td>BATHGATE</td>\n",
              "      <td>10457</td>\n",
              "      <td>2912</td>\n",
              "      <td>155</td>\n",
              "      <td>02 TWO FAMILY DWELLINGS</td>\n",
              "      <td>2</td>\n",
              "      <td>0</td>\n",
              "      <td>2</td>\n",
              "      <td>2000</td>\n",
              "      <td>2400</td>\n",
              "      <td>1989</td>\n",
              "      <td>1</td>\n",
              "      <td>B1</td>\n",
              "      <td>2014-09-28</td>\n",
              "      <td>470000</td>\n",
              "      <td>2014</td>\n",
              "      <td>25</td>\n",
              "    </tr>\n",
              "    <tr>\n",
              "      <th>3</th>\n",
              "      <td>PR11104</td>\n",
              "      <td>1</td>\n",
              "      <td>BATHGATE</td>\n",
              "      <td>10457</td>\n",
              "      <td>2929</td>\n",
              "      <td>134</td>\n",
              "      <td>02 TWO FAMILY DWELLINGS</td>\n",
              "      <td>2</td>\n",
              "      <td>0</td>\n",
              "      <td>2</td>\n",
              "      <td>2356</td>\n",
              "      <td>2394</td>\n",
              "      <td>1991</td>\n",
              "      <td>1</td>\n",
              "      <td>B1</td>\n",
              "      <td>2014-06-05</td>\n",
              "      <td>570000</td>\n",
              "      <td>2014</td>\n",
              "      <td>23</td>\n",
              "    </tr>\n",
              "    <tr>\n",
              "      <th>4</th>\n",
              "      <td>PR11105</td>\n",
              "      <td>1</td>\n",
              "      <td>BATHGATE</td>\n",
              "      <td>10457</td>\n",
              "      <td>3036</td>\n",
              "      <td>140</td>\n",
              "      <td>02 TWO FAMILY DWELLINGS</td>\n",
              "      <td>2</td>\n",
              "      <td>0</td>\n",
              "      <td>2</td>\n",
              "      <td>3346</td>\n",
              "      <td>2308</td>\n",
              "      <td>1993</td>\n",
              "      <td>1</td>\n",
              "      <td>B1</td>\n",
              "      <td>2015-02-07</td>\n",
              "      <td>640000</td>\n",
              "      <td>2015</td>\n",
              "      <td>22</td>\n",
              "    </tr>\n",
              "  </tbody>\n",
              "</table>\n",
              "</div>\n",
              "      <button class=\"colab-df-convert\" onclick=\"convertToInteractive('df-3ab48dae-336b-4a17-8d2e-a11a3dbde625')\"\n",
              "              title=\"Convert this dataframe to an interactive table.\"\n",
              "              style=\"display:none;\">\n",
              "        \n",
              "  <svg xmlns=\"http://www.w3.org/2000/svg\" height=\"24px\"viewBox=\"0 0 24 24\"\n",
              "       width=\"24px\">\n",
              "    <path d=\"M0 0h24v24H0V0z\" fill=\"none\"/>\n",
              "    <path d=\"M18.56 5.44l.94 2.06.94-2.06 2.06-.94-2.06-.94-.94-2.06-.94 2.06-2.06.94zm-11 1L8.5 8.5l.94-2.06 2.06-.94-2.06-.94L8.5 2.5l-.94 2.06-2.06.94zm10 10l.94 2.06.94-2.06 2.06-.94-2.06-.94-.94-2.06-.94 2.06-2.06.94z\"/><path d=\"M17.41 7.96l-1.37-1.37c-.4-.4-.92-.59-1.43-.59-.52 0-1.04.2-1.43.59L10.3 9.45l-7.72 7.72c-.78.78-.78 2.05 0 2.83L4 21.41c.39.39.9.59 1.41.59.51 0 1.02-.2 1.41-.59l7.78-7.78 2.81-2.81c.8-.78.8-2.07 0-2.86zM5.41 20L4 18.59l7.72-7.72 1.47 1.35L5.41 20z\"/>\n",
              "  </svg>\n",
              "      </button>\n",
              "      \n",
              "  <style>\n",
              "    .colab-df-container {\n",
              "      display:flex;\n",
              "      flex-wrap:wrap;\n",
              "      gap: 12px;\n",
              "    }\n",
              "\n",
              "    .colab-df-convert {\n",
              "      background-color: #E8F0FE;\n",
              "      border: none;\n",
              "      border-radius: 50%;\n",
              "      cursor: pointer;\n",
              "      display: none;\n",
              "      fill: #1967D2;\n",
              "      height: 32px;\n",
              "      padding: 0 0 0 0;\n",
              "      width: 32px;\n",
              "    }\n",
              "\n",
              "    .colab-df-convert:hover {\n",
              "      background-color: #E2EBFA;\n",
              "      box-shadow: 0px 1px 2px rgba(60, 64, 67, 0.3), 0px 1px 3px 1px rgba(60, 64, 67, 0.15);\n",
              "      fill: #174EA6;\n",
              "    }\n",
              "\n",
              "    [theme=dark] .colab-df-convert {\n",
              "      background-color: #3B4455;\n",
              "      fill: #D2E3FC;\n",
              "    }\n",
              "\n",
              "    [theme=dark] .colab-df-convert:hover {\n",
              "      background-color: #434B5C;\n",
              "      box-shadow: 0px 1px 3px 1px rgba(0, 0, 0, 0.15);\n",
              "      filter: drop-shadow(0px 1px 2px rgba(0, 0, 0, 0.3));\n",
              "      fill: #FFFFFF;\n",
              "    }\n",
              "  </style>\n",
              "\n",
              "      <script>\n",
              "        const buttonEl =\n",
              "          document.querySelector('#df-3ab48dae-336b-4a17-8d2e-a11a3dbde625 button.colab-df-convert');\n",
              "        buttonEl.style.display =\n",
              "          google.colab.kernel.accessAllowed ? 'block' : 'none';\n",
              "\n",
              "        async function convertToInteractive(key) {\n",
              "          const element = document.querySelector('#df-3ab48dae-336b-4a17-8d2e-a11a3dbde625');\n",
              "          const dataTable =\n",
              "            await google.colab.kernel.invokeFunction('convertToInteractive',\n",
              "                                                     [key], {});\n",
              "          if (!dataTable) return;\n",
              "\n",
              "          const docLinkHtml = 'Like what you see? Visit the ' +\n",
              "            '<a target=\"_blank\" href=https://colab.research.google.com/notebooks/data_table.ipynb>data table notebook</a>'\n",
              "            + ' to learn more about interactive tables.';\n",
              "          element.innerHTML = '';\n",
              "          dataTable['output_type'] = 'display_data';\n",
              "          await google.colab.output.renderOutput(dataTable, element);\n",
              "          const docLink = document.createElement('div');\n",
              "          docLink.innerHTML = docLinkHtml;\n",
              "          element.appendChild(docLink);\n",
              "        }\n",
              "      </script>\n",
              "    </div>\n",
              "  </div>\n",
              "  "
            ]
          },
          "metadata": {},
          "execution_count": 620
        }
      ]
    },
    {
      "cell_type": "code",
      "source": [
        "# dropping 'DateOfEvaluation','YearOfConstruction','yearOfEval' since the age of the property has been calculated\n",
        "# residential units and commercial units will be given different values, hence totalunits not required\n",
        "# building class and category is already mentioned in 'TaxClass_AtEvaluationTime'\n",
        "# newyork address is generally represented as borough,block,lot. since lots are too specific to the place it wouldnt make much difference \n",
        "df.drop(['DateOfEvaluation','YearOfConstruction','yearOfEval','TotalNoOfUnits','BldgClassCategory','Lot'],axis=1,inplace=True)\n",
        "df_test.drop(['DateOfEvaluation','YearOfConstruction','yearOfEval','TotalNoOfUnits','BldgClassCategory','Lot'],axis=1,inplace=True)"
      ],
      "metadata": {
        "id": "NXaoa6Q75x0P"
      },
      "execution_count": 621,
      "outputs": []
    },
    {
      "cell_type": "code",
      "source": [
        "df.info()"
      ],
      "metadata": {
        "colab": {
          "base_uri": "https://localhost:8080/"
        },
        "id": "wcC8X2t_W5HY",
        "outputId": "88694079-9f69-4fc9-da31-750158fb5320"
      },
      "execution_count": 622,
      "outputs": [
        {
          "output_type": "stream",
          "name": "stdout",
          "text": [
            "<class 'pandas.core.frame.DataFrame'>\n",
            "Int64Index: 16810 entries, 0 to 16809\n",
            "Data columns (total 13 columns):\n",
            " #   Column                      Non-Null Count  Dtype \n",
            "---  ------                      --------------  ----- \n",
            " 0   PropertyID                  16810 non-null  object\n",
            " 1   Borough                     16810 non-null  int64 \n",
            " 2   Surroundings                16810 non-null  object\n",
            " 3   ZipCode                     16810 non-null  int64 \n",
            " 4   Block                       16810 non-null  int64 \n",
            " 5   NoOfResidentialUnits        16810 non-null  int64 \n",
            " 6   NoOfCommercialUnits         16810 non-null  int64 \n",
            " 7   LandAreaInSqFt              16810 non-null  int64 \n",
            " 8   GrossAreaInSqFt             16810 non-null  int64 \n",
            " 9   TaxClass_AtEvaluationTime   16810 non-null  int64 \n",
            " 10  BldgClass_AtEvaluationTime  16810 non-null  object\n",
            " 11  PropertyEvaluationvalue     16810 non-null  int64 \n",
            " 12  age                         16810 non-null  int64 \n",
            "dtypes: int64(10), object(3)\n",
            "memory usage: 1.8+ MB\n"
          ]
        }
      ]
    },
    {
      "cell_type": "code",
      "source": [
        "df.shape,df_test.shape"
      ],
      "metadata": {
        "id": "AIqim5aJQ1tz",
        "outputId": "50b4d29f-0683-464b-b1a1-88fb7c4ecf40",
        "colab": {
          "base_uri": "https://localhost:8080/"
        }
      },
      "execution_count": 623,
      "outputs": [
        {
          "output_type": "execute_result",
          "data": {
            "text/plain": [
              "((16810, 13), (2936, 12))"
            ]
          },
          "metadata": {},
          "execution_count": 623
        }
      ]
    },
    {
      "cell_type": "code",
      "source": [
        "print((df == 0).sum())"
      ],
      "metadata": {
        "colab": {
          "base_uri": "https://localhost:8080/"
        },
        "id": "ErMJGz8kR0VY",
        "outputId": "94cfc4a6-2b1f-4321-9346-b73f3e5f61dd"
      },
      "execution_count": 624,
      "outputs": [
        {
          "output_type": "stream",
          "name": "stdout",
          "text": [
            "PropertyID                        0\n",
            "Borough                           0\n",
            "Surroundings                      0\n",
            "ZipCode                           0\n",
            "Block                             0\n",
            "NoOfResidentialUnits            802\n",
            "NoOfCommercialUnits           15790\n",
            "LandAreaInSqFt                    0\n",
            "GrossAreaInSqFt                   0\n",
            "TaxClass_AtEvaluationTime         0\n",
            "BldgClass_AtEvaluationTime        0\n",
            "PropertyEvaluationvalue           0\n",
            "age                              79\n",
            "dtype: int64\n"
          ]
        }
      ]
    },
    {
      "cell_type": "code",
      "source": [
        "print((df_test == 0).sum())"
      ],
      "metadata": {
        "colab": {
          "base_uri": "https://localhost:8080/"
        },
        "id": "z4pccL2BR51H",
        "outputId": "ec3add72-7ede-4d88-ec3f-37be10c27cfa"
      },
      "execution_count": 625,
      "outputs": [
        {
          "output_type": "stream",
          "name": "stdout",
          "text": [
            "PropertyID                       0\n",
            "Borough                          0\n",
            "Surroundings                     0\n",
            "ZipCode                          0\n",
            "Block                            0\n",
            "NoOfResidentialUnits           155\n",
            "NoOfCommercialUnits           2750\n",
            "LandAreaInSqFt                   0\n",
            "GrossAreaInSqFt                  0\n",
            "TaxClass_AtEvaluationTime        0\n",
            "BldgClass_AtEvaluationTime       0\n",
            "age                             14\n",
            "dtype: int64\n"
          ]
        }
      ]
    },
    {
      "cell_type": "code",
      "source": [
        "# as there are 0 values in age and property assessment is usually done on buildings of atleast 1 year of age\n",
        "df= df[df['age']!=0]\n",
        "df_test= df_test[df_test['age']!=0]\n",
        "df.shape,df_test.shape"
      ],
      "metadata": {
        "colab": {
          "base_uri": "https://localhost:8080/"
        },
        "id": "BFzCJar0R9cX",
        "outputId": "377ca167-b849-47af-ac25-d58cc2635d82"
      },
      "execution_count": 626,
      "outputs": [
        {
          "output_type": "execute_result",
          "data": {
            "text/plain": [
              "((16731, 13), (2922, 12))"
            ]
          },
          "metadata": {},
          "execution_count": 626
        }
      ]
    },
    {
      "cell_type": "code",
      "source": [
        "# taking the maximum of 2 as building area for calculating market value\n",
        "(df['LandAreaInSqFt']>df['GrossAreaInSqFt']).sum()\n",
        "df['bldg_area']=df[[\"LandAreaInSqFt\", \"GrossAreaInSqFt\"]].max(axis=1)\n",
        "df_test['bldg_area']=df_test[[\"LandAreaInSqFt\", \"GrossAreaInSqFt\"]].max(axis=1)"
      ],
      "metadata": {
        "id": "TRPCX8UySqv7",
        "colab": {
          "base_uri": "https://localhost:8080/"
        },
        "outputId": "9582179f-dbbb-417e-ebb1-1ef515d33979"
      },
      "execution_count": 627,
      "outputs": [
        {
          "output_type": "stream",
          "name": "stderr",
          "text": [
            "/usr/local/lib/python3.7/dist-packages/ipykernel_launcher.py:3: SettingWithCopyWarning: \n",
            "A value is trying to be set on a copy of a slice from a DataFrame.\n",
            "Try using .loc[row_indexer,col_indexer] = value instead\n",
            "\n",
            "See the caveats in the documentation: https://pandas.pydata.org/pandas-docs/stable/user_guide/indexing.html#returning-a-view-versus-a-copy\n",
            "  This is separate from the ipykernel package so we can avoid doing imports until\n",
            "/usr/local/lib/python3.7/dist-packages/ipykernel_launcher.py:4: SettingWithCopyWarning: \n",
            "A value is trying to be set on a copy of a slice from a DataFrame.\n",
            "Try using .loc[row_indexer,col_indexer] = value instead\n",
            "\n",
            "See the caveats in the documentation: https://pandas.pydata.org/pandas-docs/stable/user_guide/indexing.html#returning-a-view-versus-a-copy\n",
            "  after removing the cwd from sys.path.\n"
          ]
        }
      ]
    },
    {
      "cell_type": "code",
      "source": [
        "df.drop([\"LandAreaInSqFt\", \"GrossAreaInSqFt\"],axis=1,inplace=True)\n",
        "df_test.drop([\"LandAreaInSqFt\", \"GrossAreaInSqFt\"],axis=1,inplace=True)\n",
        "print(df.shape)\n",
        "print(df_test.shape)"
      ],
      "metadata": {
        "colab": {
          "base_uri": "https://localhost:8080/"
        },
        "id": "k5Zmp6qMTOoG",
        "outputId": "5bd27bda-9058-4235-a961-fe62fef3b402"
      },
      "execution_count": 628,
      "outputs": [
        {
          "output_type": "stream",
          "name": "stdout",
          "text": [
            "(16731, 12)\n",
            "(2922, 11)\n"
          ]
        },
        {
          "output_type": "stream",
          "name": "stderr",
          "text": [
            "/usr/local/lib/python3.7/dist-packages/pandas/core/frame.py:4913: SettingWithCopyWarning: \n",
            "A value is trying to be set on a copy of a slice from a DataFrame\n",
            "\n",
            "See the caveats in the documentation: https://pandas.pydata.org/pandas-docs/stable/user_guide/indexing.html#returning-a-view-versus-a-copy\n",
            "  errors=errors,\n"
          ]
        }
      ]
    },
    {
      "cell_type": "markdown",
      "source": [
        "VISUALIZATIONS"
      ],
      "metadata": {
        "id": "_cqtlGopBXhh"
      }
    },
    {
      "cell_type": "code",
      "source": [
        "#UNIVARIATE ANALYSIS\n",
        "sns.distplot(df.PropertyEvaluationvalue)"
      ],
      "metadata": {
        "colab": {
          "base_uri": "https://localhost:8080/",
          "height": 365
        },
        "id": "R2KTym_H_R4z",
        "outputId": "bc6eefe1-04b3-480b-8aba-bdcec23b1ded"
      },
      "execution_count": 629,
      "outputs": [
        {
          "output_type": "stream",
          "name": "stderr",
          "text": [
            "/usr/local/lib/python3.7/dist-packages/seaborn/distributions.py:2619: FutureWarning: `distplot` is a deprecated function and will be removed in a future version. Please adapt your code to use either `displot` (a figure-level function with similar flexibility) or `histplot` (an axes-level function for histograms).\n",
            "  warnings.warn(msg, FutureWarning)\n"
          ]
        },
        {
          "output_type": "execute_result",
          "data": {
            "text/plain": [
              "<matplotlib.axes._subplots.AxesSubplot at 0x7f34065c93d0>"
            ]
          },
          "metadata": {},
          "execution_count": 629
        },
        {
          "output_type": "display_data",
          "data": {
            "text/plain": [
              "<Figure size 432x288 with 1 Axes>"
            ],
            "image/png": "[encoded data removed]"
          },
          "metadata": {
            "needs_background": "light"
          }
        }
      ]
    },
    {
      "cell_type": "markdown",
      "source": [
        "OBSERVATION\n",
        "\n",
        "Distrubution of the PropertyEvaluationvalue is seemed right_skewed"
      ],
      "metadata": {
        "id": "bKP_zm3YJLGE"
      }
    },
    {
      "cell_type": "code",
      "source": [
        "df.hist(figsize=(20,20))\n",
        "plt.show()"
      ],
      "metadata": {
        "colab": {
          "base_uri": "https://localhost:8080/",
          "height": 1000
        },
        "id": "3OpEWghTACWV",
        "outputId": "aff0c365-c598-4aa1-ce52-071c0150d874"
      },
      "execution_count": 630,
      "outputs": [
        {
          "output_type": "display_data",
          "data": {
            "text/plain": [
              "<Figure size 1440x1440 with 9 Axes>"
            ],
            "image/png": "[encoded data removed]"
          },
          "metadata": {
            "needs_background": "light"
          }
        }
      ]
    },
    {
      "cell_type": "markdown",
      "source": [
        "SEPARTING NUMERICAL AND CATEGORICAL DATA"
      ],
      "metadata": {
        "id": "174vUZ7iUkcn"
      }
    },
    {
      "cell_type": "code",
      "source": [
        "# Import label encoder\n",
        "from sklearn import preprocessing\n",
        "\n",
        "# label_encoder object knows how to understand word labels.\n",
        "label_encoder = preprocessing.LabelEncoder()\n",
        "\n",
        "# Encode labels in column 'species'.\n",
        "df['BldgClass_AtEvaluationTime']= label_encoder.fit_transform(df['BldgClass_AtEvaluationTime'])\n",
        "\n",
        "df['BldgClass_AtEvaluationTime'].unique()\n"
      ],
      "metadata": {
        "colab": {
          "base_uri": "https://localhost:8080/"
        },
        "id": "b5Q9q6r1cEAv",
        "outputId": "30c43673-d789-41b0-8a70-646cfe6d773a"
      },
      "execution_count": 631,
      "outputs": [
        {
          "output_type": "execute_result",
          "data": {
            "text/plain": [
              "array([ 9, 13, 90,  5, 16, 40, 10, 54, 24, 20, 61,  2,  1,  8, 12, 78, 11,\n",
              "        0, 87, 56,  3, 79, 27, 57, 92, 96,  6, 55, 19, 14, 76, 93, 36,  4,\n",
              "       34, 32, 53, 26, 60, 88, 43, 15, 38, 83, 91, 77, 89, 44, 69, 70, 17,\n",
              "       94, 45, 29, 65, 37, 41, 71, 23, 74, 28, 68, 72, 67, 21, 35, 42,  7,\n",
              "       46, 64, 73, 66, 31, 97, 59, 75, 18, 58, 95, 47, 86, 99, 39, 51, 50,\n",
              "       33, 85, 30, 22, 25, 48, 80, 98, 52, 82, 62, 63, 49, 81, 84])"
            ]
          },
          "metadata": {},
          "execution_count": 631
        }
      ]
    },
    {
      "cell_type": "code",
      "source": [
        "# Import label encoder\n",
        "from sklearn import preprocessing\n",
        "\n",
        "# label_encoder object knows how to understand word labels.\n",
        "label_encoder = preprocessing.LabelEncoder()\n",
        "\n",
        "# Encode labels in column 'species'.\n",
        "df_test['BldgClass_AtEvaluationTime']= label_encoder.fit_transform(df_test['BldgClass_AtEvaluationTime'])\n",
        "\n",
        "df_test['BldgClass_AtEvaluationTime'].unique()\n"
      ],
      "metadata": {
        "colab": {
          "base_uri": "https://localhost:8080/"
        },
        "id": "472a2B8aceSC",
        "outputId": "ddbc8a29-2e01-4a70-8506-1b7bb7f60881"
      },
      "execution_count": 632,
      "outputs": [
        {
          "output_type": "execute_result",
          "data": {
            "text/plain": [
              "array([ 9, 58, 21, 13, 10,  5, 12,  2,  8, 56, 47, 15, 51, 11, 35,  0,  6,\n",
              "        1,  3, 50, 37, 54, 14, 48, 55,  4, 40, 31, 18, 44, 36, 53, 60, 16,\n",
              "       26, 45, 52, 38, 61, 57, 28, 63, 42, 27,  7, 22, 49, 62, 30, 32, 25,\n",
              "       39, 43, 24, 23, 59, 19, 46, 41, 17, 29, 34, 33, 20])"
            ]
          },
          "metadata": {},
          "execution_count": 632
        }
      ]
    },
    {
      "cell_type": "code",
      "source": [
        "#Since surrounds have more tahn 100 data values,hence we may drop the column\n",
        "df.drop({'Surroundings'},axis=1,inplace=True)\n",
        "df_test.drop({'Surroundings'},axis=1,inplace=True)"
      ],
      "metadata": {
        "id": "wtu3Ip7ndRj0"
      },
      "execution_count": 633,
      "outputs": []
    },
    {
      "cell_type": "code",
      "source": [
        "# type conversion to category\n",
        "df['Borough'] = df['Borough'].astype('category')\n",
        "df['ZipCode'] = df['ZipCode'].astype('category')\n",
        "#df['BldgClass_AtEvaluationTime'] = df['BldgClass_AtEvaluationTime'].astype('category')\n",
        "\n",
        "df_test['Borough'] = df_test['Borough'].astype('category')\n",
        "df_test['ZipCode'] = df_test['ZipCode'].astype('category')\n",
        "#df_test['BldgClass_AtEvaluationTime'] = df_test['BldgClass_AtEvaluationTime'].astype('category')"
      ],
      "metadata": {
        "id": "yCvmCpQVYzrO"
      },
      "execution_count": 634,
      "outputs": []
    },
    {
      "cell_type": "code",
      "source": [
        "# dropping PropertyID from text and train\n",
        "df.drop('PropertyID',axis=1,inplace=True)\n",
        "df_test1= df_test.drop('PropertyID',axis=1)"
      ],
      "metadata": {
        "id": "f-xHpasrisE3"
      },
      "execution_count": 635,
      "outputs": []
    },
    {
      "cell_type": "code",
      "source": [
        "# seperating numerical and categorical variables in train data\n",
        "num_cols = df.select_dtypes(exclude='category').columns.tolist()\n",
        "cat_cols = df.select_dtypes(include='category').columns.tolist() "
      ],
      "metadata": {
        "id": "2H3q-dX8z1-8"
      },
      "execution_count": 636,
      "outputs": []
    },
    {
      "cell_type": "code",
      "source": [
        "print(\"Num Columns ->\", num_cols)\n",
        "print(\"Cat Columns ->\", cat_cols)"
      ],
      "metadata": {
        "colab": {
          "base_uri": "https://localhost:8080/"
        },
        "id": "kTvYAKSgTfuK",
        "outputId": "ce211885-6132-4a47-8b95-1317a4461a1f"
      },
      "execution_count": 637,
      "outputs": [
        {
          "output_type": "stream",
          "name": "stdout",
          "text": [
            "Num Columns -> ['Block', 'NoOfResidentialUnits', 'NoOfCommercialUnits', 'TaxClass_AtEvaluationTime', 'BldgClass_AtEvaluationTime', 'PropertyEvaluationvalue', 'age', 'bldg_area']\n",
            "Cat Columns -> ['Borough', 'ZipCode']\n"
          ]
        }
      ]
    },
    {
      "cell_type": "code",
      "source": [
        "# seperating numerical and categorical variables in test data\n",
        "num_cols = df_test1.select_dtypes(exclude='category').columns.tolist()\n",
        "cat_cols = df_test1.select_dtypes(include='category').columns.tolist() \n",
        "\n",
        "print(\"Num Columns ->\", num_cols)\n",
        "print(\"Cat Columns ->\", cat_cols)"
      ],
      "metadata": {
        "colab": {
          "base_uri": "https://localhost:8080/"
        },
        "id": "zP5vLGGBaQj2",
        "outputId": "3589f344-f946-45a4-9a33-ced9f8235596"
      },
      "execution_count": 638,
      "outputs": [
        {
          "output_type": "stream",
          "name": "stdout",
          "text": [
            "Num Columns -> ['Block', 'NoOfResidentialUnits', 'NoOfCommercialUnits', 'TaxClass_AtEvaluationTime', 'BldgClass_AtEvaluationTime', 'age', 'bldg_area']\n",
            "Cat Columns -> ['Borough', 'ZipCode']\n"
          ]
        }
      ]
    },
    {
      "cell_type": "markdown",
      "source": [
        "FEATURE SCALING"
      ],
      "metadata": {
        "id": "WIFChPRl-EhL"
      }
    },
    {
      "cell_type": "code",
      "source": [
        "#x and y split\n",
        "X=df.drop(['PropertyEvaluationvalue'],axis=1)\n",
        "y=df['PropertyEvaluationvalue']"
      ],
      "metadata": {
        "id": "9jBKTwlp-Dmu"
      },
      "execution_count": 639,
      "outputs": []
    },
    {
      "cell_type": "code",
      "source": [
        "X.shape,y.shape"
      ],
      "metadata": {
        "colab": {
          "base_uri": "https://localhost:8080/"
        },
        "id": "u3p9bXmgVDUn",
        "outputId": "4a720c10-a9c6-4cce-b790-da20783f03d2"
      },
      "execution_count": 640,
      "outputs": [
        {
          "output_type": "execute_result",
          "data": {
            "text/plain": [
              "((16731, 9), (16731,))"
            ]
          },
          "metadata": {},
          "execution_count": 640
        }
      ]
    },
    {
      "cell_type": "code",
      "source": [
        "# dummifying\n",
        "X_dumm = pd.get_dummies(X,drop_first=True)\n",
        "X_dumm.head()"
      ],
      "metadata": {
        "colab": {
          "base_uri": "https://localhost:8080/",
          "height": 299
        },
        "id": "H81Ht265gpPo",
        "outputId": "50faa02c-49c5-43d6-c6de-7fcfdfe67564"
      },
      "execution_count": 641,
      "outputs": [
        {
          "output_type": "execute_result",
          "data": {
            "text/plain": [
              "   Block  NoOfResidentialUnits  NoOfCommercialUnits  \\\n",
              "0   2927                     2                    0   \n",
              "1   3037                     3                    0   \n",
              "2   2912                     2                    0   \n",
              "3   2929                     2                    0   \n",
              "4   3036                     2                    0   \n",
              "\n",
              "   TaxClass_AtEvaluationTime  BldgClass_AtEvaluationTime  age  bldg_area  \\\n",
              "0                          1                           9   24       2394   \n",
              "1                          1                          13   12       3037   \n",
              "2                          1                           9   25       2400   \n",
              "3                          1                           9   23       2394   \n",
              "4                          1                           9   22       3346   \n",
              "\n",
              "   Borough_2  Borough_3  Borough_4  ...  ZipCode_11430  ZipCode_11432  \\\n",
              "0          0          0          0  ...              0              0   \n",
              "1          0          0          0  ...              0              0   \n",
              "2          0          0          0  ...              0              0   \n",
              "3          0          0          0  ...              0              0   \n",
              "4          0          0          0  ...              0              0   \n",
              "\n",
              "   ZipCode_11433  ZipCode_11434  ZipCode_11435  ZipCode_11436  ZipCode_11691  \\\n",
              "0              0              0              0              0              0   \n",
              "1              0              0              0              0              0   \n",
              "2              0              0              0              0              0   \n",
              "3              0              0              0              0              0   \n",
              "4              0              0              0              0              0   \n",
              "\n",
              "   ZipCode_11692  ZipCode_11693  ZipCode_11694  \n",
              "0              0              0              0  \n",
              "1              0              0              0  \n",
              "2              0              0              0  \n",
              "3              0              0              0  \n",
              "4              0              0              0  \n",
              "\n",
              "[5 rows x 184 columns]"
            ],
            "text/html": [
              "\n",
              "  <div id=\"df-cec4ee7c-fa02-44d8-99df-4245474141ce\">\n",
              "    <div class=\"colab-df-container\">\n",
              "      <div>\n",
              "<style scoped>\n",
              "    .dataframe tbody tr th:only-of-type {\n",
              "        vertical-align: middle;\n",
              "    }\n",
              "\n",
              "    .dataframe tbody tr th {\n",
              "        vertical-align: top;\n",
              "    }\n",
              "\n",
              "    .dataframe thead th {\n",
              "        text-align: right;\n",
              "    }\n",
              "</style>\n",
              "<table border=\"1\" class=\"dataframe\">\n",
              "  <thead>\n",
              "    <tr style=\"text-align: right;\">\n",
              "      <th></th>\n",
              "      <th>Block</th>\n",
              "      <th>NoOfResidentialUnits</th>\n",
              "      <th>NoOfCommercialUnits</th>\n",
              "      <th>TaxClass_AtEvaluationTime</th>\n",
              "      <th>BldgClass_AtEvaluationTime</th>\n",
              "      <th>age</th>\n",
              "      <th>bldg_area</th>\n",
              "      <th>Borough_2</th>\n",
              "      <th>Borough_3</th>\n",
              "      <th>Borough_4</th>\n",
              "      <th>...</th>\n",
              "      <th>ZipCode_11430</th>\n",
              "      <th>ZipCode_11432</th>\n",
              "      <th>ZipCode_11433</th>\n",
              "      <th>ZipCode_11434</th>\n",
              "      <th>ZipCode_11435</th>\n",
              "      <th>ZipCode_11436</th>\n",
              "      <th>ZipCode_11691</th>\n",
              "      <th>ZipCode_11692</th>\n",
              "      <th>ZipCode_11693</th>\n",
              "      <th>ZipCode_11694</th>\n",
              "    </tr>\n",
              "  </thead>\n",
              "  <tbody>\n",
              "    <tr>\n",
              "      <th>0</th>\n",
              "      <td>2927</td>\n",
              "      <td>2</td>\n",
              "      <td>0</td>\n",
              "      <td>1</td>\n",
              "      <td>9</td>\n",
              "      <td>24</td>\n",
              "      <td>2394</td>\n",
              "      <td>0</td>\n",
              "      <td>0</td>\n",
              "      <td>0</td>\n",
              "      <td>...</td>\n",
              "      <td>0</td>\n",
              "      <td>0</td>\n",
              "      <td>0</td>\n",
              "      <td>0</td>\n",
              "      <td>0</td>\n",
              "      <td>0</td>\n",
              "      <td>0</td>\n",
              "      <td>0</td>\n",
              "      <td>0</td>\n",
              "      <td>0</td>\n",
              "    </tr>\n",
              "    <tr>\n",
              "      <th>1</th>\n",
              "      <td>3037</td>\n",
              "      <td>3</td>\n",
              "      <td>0</td>\n",
              "      <td>1</td>\n",
              "      <td>13</td>\n",
              "      <td>12</td>\n",
              "      <td>3037</td>\n",
              "      <td>0</td>\n",
              "      <td>0</td>\n",
              "      <td>0</td>\n",
              "      <td>...</td>\n",
              "      <td>0</td>\n",
              "      <td>0</td>\n",
              "      <td>0</td>\n",
              "      <td>0</td>\n",
              "      <td>0</td>\n",
              "      <td>0</td>\n",
              "      <td>0</td>\n",
              "      <td>0</td>\n",
              "      <td>0</td>\n",
              "      <td>0</td>\n",
              "    </tr>\n",
              "    <tr>\n",
              "      <th>2</th>\n",
              "      <td>2912</td>\n",
              "      <td>2</td>\n",
              "      <td>0</td>\n",
              "      <td>1</td>\n",
              "      <td>9</td>\n",
              "      <td>25</td>\n",
              "      <td>2400</td>\n",
              "      <td>0</td>\n",
              "      <td>0</td>\n",
              "      <td>0</td>\n",
              "      <td>...</td>\n",
              "      <td>0</td>\n",
              "      <td>0</td>\n",
              "      <td>0</td>\n",
              "      <td>0</td>\n",
              "      <td>0</td>\n",
              "      <td>0</td>\n",
              "      <td>0</td>\n",
              "      <td>0</td>\n",
              "      <td>0</td>\n",
              "      <td>0</td>\n",
              "    </tr>\n",
              "    <tr>\n",
              "      <th>3</th>\n",
              "      <td>2929</td>\n",
              "      <td>2</td>\n",
              "      <td>0</td>\n",
              "      <td>1</td>\n",
              "      <td>9</td>\n",
              "      <td>23</td>\n",
              "      <td>2394</td>\n",
              "      <td>0</td>\n",
              "      <td>0</td>\n",
              "      <td>0</td>\n",
              "      <td>...</td>\n",
              "      <td>0</td>\n",
              "      <td>0</td>\n",
              "      <td>0</td>\n",
              "      <td>0</td>\n",
              "      <td>0</td>\n",
              "      <td>0</td>\n",
              "      <td>0</td>\n",
              "      <td>0</td>\n",
              "      <td>0</td>\n",
              "      <td>0</td>\n",
              "    </tr>\n",
              "    <tr>\n",
              "      <th>4</th>\n",
              "      <td>3036</td>\n",
              "      <td>2</td>\n",
              "      <td>0</td>\n",
              "      <td>1</td>\n",
              "      <td>9</td>\n",
              "      <td>22</td>\n",
              "      <td>3346</td>\n",
              "      <td>0</td>\n",
              "      <td>0</td>\n",
              "      <td>0</td>\n",
              "      <td>...</td>\n",
              "      <td>0</td>\n",
              "      <td>0</td>\n",
              "      <td>0</td>\n",
              "      <td>0</td>\n",
              "      <td>0</td>\n",
              "      <td>0</td>\n",
              "      <td>0</td>\n",
              "      <td>0</td>\n",
              "      <td>0</td>\n",
              "      <td>0</td>\n",
              "    </tr>\n",
              "  </tbody>\n",
              "</table>\n",
              "<p>5 rows × 184 columns</p>\n",
              "</div>\n",
              "      <button class=\"colab-df-convert\" onclick=\"convertToInteractive('df-cec4ee7c-fa02-44d8-99df-4245474141ce')\"\n",
              "              title=\"Convert this dataframe to an interactive table.\"\n",
              "              style=\"display:none;\">\n",
              "        \n",
              "  <svg xmlns=\"http://www.w3.org/2000/svg\" height=\"24px\"viewBox=\"0 0 24 24\"\n",
              "       width=\"24px\">\n",
              "    <path d=\"M0 0h24v24H0V0z\" fill=\"none\"/>\n",
              "    <path d=\"M18.56 5.44l.94 2.06.94-2.06 2.06-.94-2.06-.94-.94-2.06-.94 2.06-2.06.94zm-11 1L8.5 8.5l.94-2.06 2.06-.94-2.06-.94L8.5 2.5l-.94 2.06-2.06.94zm10 10l.94 2.06.94-2.06 2.06-.94-2.06-.94-.94-2.06-.94 2.06-2.06.94z\"/><path d=\"M17.41 7.96l-1.37-1.37c-.4-.4-.92-.59-1.43-.59-.52 0-1.04.2-1.43.59L10.3 9.45l-7.72 7.72c-.78.78-.78 2.05 0 2.83L4 21.41c.39.39.9.59 1.41.59.51 0 1.02-.2 1.41-.59l7.78-7.78 2.81-2.81c.8-.78.8-2.07 0-2.86zM5.41 20L4 18.59l7.72-7.72 1.47 1.35L5.41 20z\"/>\n",
              "  </svg>\n",
              "      </button>\n",
              "      \n",
              "  <style>\n",
              "    .colab-df-container {\n",
              "      display:flex;\n",
              "      flex-wrap:wrap;\n",
              "      gap: 12px;\n",
              "    }\n",
              "\n",
              "    .colab-df-convert {\n",
              "      background-color: #E8F0FE;\n",
              "      border: none;\n",
              "      border-radius: 50%;\n",
              "      cursor: pointer;\n",
              "      display: none;\n",
              "      fill: #1967D2;\n",
              "      height: 32px;\n",
              "      padding: 0 0 0 0;\n",
              "      width: 32px;\n",
              "    }\n",
              "\n",
              "    .colab-df-convert:hover {\n",
              "      background-color: #E2EBFA;\n",
              "      box-shadow: 0px 1px 2px rgba(60, 64, 67, 0.3), 0px 1px 3px 1px rgba(60, 64, 67, 0.15);\n",
              "      fill: #174EA6;\n",
              "    }\n",
              "\n",
              "    [theme=dark] .colab-df-convert {\n",
              "      background-color: #3B4455;\n",
              "      fill: #D2E3FC;\n",
              "    }\n",
              "\n",
              "    [theme=dark] .colab-df-convert:hover {\n",
              "      background-color: #434B5C;\n",
              "      box-shadow: 0px 1px 3px 1px rgba(0, 0, 0, 0.15);\n",
              "      filter: drop-shadow(0px 1px 2px rgba(0, 0, 0, 0.3));\n",
              "      fill: #FFFFFF;\n",
              "    }\n",
              "  </style>\n",
              "\n",
              "      <script>\n",
              "        const buttonEl =\n",
              "          document.querySelector('#df-cec4ee7c-fa02-44d8-99df-4245474141ce button.colab-df-convert');\n",
              "        buttonEl.style.display =\n",
              "          google.colab.kernel.accessAllowed ? 'block' : 'none';\n",
              "\n",
              "        async function convertToInteractive(key) {\n",
              "          const element = document.querySelector('#df-cec4ee7c-fa02-44d8-99df-4245474141ce');\n",
              "          const dataTable =\n",
              "            await google.colab.kernel.invokeFunction('convertToInteractive',\n",
              "                                                     [key], {});\n",
              "          if (!dataTable) return;\n",
              "\n",
              "          const docLinkHtml = 'Like what you see? Visit the ' +\n",
              "            '<a target=\"_blank\" href=https://colab.research.google.com/notebooks/data_table.ipynb>data table notebook</a>'\n",
              "            + ' to learn more about interactive tables.';\n",
              "          element.innerHTML = '';\n",
              "          dataTable['output_type'] = 'display_data';\n",
              "          await google.colab.output.renderOutput(dataTable, element);\n",
              "          const docLink = document.createElement('div');\n",
              "          docLink.innerHTML = docLinkHtml;\n",
              "          element.appendChild(docLink);\n",
              "        }\n",
              "      </script>\n",
              "    </div>\n",
              "  </div>\n",
              "  "
            ]
          },
          "metadata": {},
          "execution_count": 641
        }
      ]
    },
    {
      "cell_type": "code",
      "source": [
        "testdata1 = pd.get_dummies(df_test1,drop_first=True)\n",
        "testdata1.head()"
      ],
      "metadata": {
        "colab": {
          "base_uri": "https://localhost:8080/",
          "height": 299
        },
        "id": "TB3fIvREgtmn",
        "outputId": "cd763ee0-0b96-4876-989b-3fee381ab406"
      },
      "execution_count": 642,
      "outputs": [
        {
          "output_type": "execute_result",
          "data": {
            "text/plain": [
              "   Block  NoOfResidentialUnits  NoOfCommercialUnits  \\\n",
              "0   2929                     2                    0   \n",
              "1   3036                     2                    0   \n",
              "2   3048                     4                    1   \n",
              "3   2899                     0                    1   \n",
              "4   3083                     3                    0   \n",
              "\n",
              "   TaxClass_AtEvaluationTime  BldgClass_AtEvaluationTime  age  bldg_area  \\\n",
              "0                          1                           9   18       2498   \n",
              "1                          1                           9   20       2340   \n",
              "2                          2                          58   52       6000   \n",
              "3                          4                          21   64       3439   \n",
              "4                          1                          13   17       2931   \n",
              "\n",
              "   Borough_2  Borough_3  Borough_4  ...  ZipCode_11429  ZipCode_11432  \\\n",
              "0          0          0          0  ...              0              0   \n",
              "1          0          0          0  ...              0              0   \n",
              "2          0          0          0  ...              0              0   \n",
              "3          0          0          0  ...              0              0   \n",
              "4          0          0          0  ...              0              0   \n",
              "\n",
              "   ZipCode_11433  ZipCode_11434  ZipCode_11435  ZipCode_11436  ZipCode_11691  \\\n",
              "0              0              0              0              0              0   \n",
              "1              0              0              0              0              0   \n",
              "2              0              0              0              0              0   \n",
              "3              0              0              0              0              0   \n",
              "4              0              0              0              0              0   \n",
              "\n",
              "   ZipCode_11692  ZipCode_11693  ZipCode_11694  \n",
              "0              0              0              0  \n",
              "1              0              0              0  \n",
              "2              0              0              0  \n",
              "3              0              0              0  \n",
              "4              0              0              0  \n",
              "\n",
              "[5 rows x 174 columns]"
            ],
            "text/html": [
              "\n",
              "  <div id=\"df-8a271819-0bec-4c56-aa3d-d77eaf4d7b48\">\n",
              "    <div class=\"colab-df-container\">\n",
              "      <div>\n",
              "<style scoped>\n",
              "    .dataframe tbody tr th:only-of-type {\n",
              "        vertical-align: middle;\n",
              "    }\n",
              "\n",
              "    .dataframe tbody tr th {\n",
              "        vertical-align: top;\n",
              "    }\n",
              "\n",
              "    .dataframe thead th {\n",
              "        text-align: right;\n",
              "    }\n",
              "</style>\n",
              "<table border=\"1\" class=\"dataframe\">\n",
              "  <thead>\n",
              "    <tr style=\"text-align: right;\">\n",
              "      <th></th>\n",
              "      <th>Block</th>\n",
              "      <th>NoOfResidentialUnits</th>\n",
              "      <th>NoOfCommercialUnits</th>\n",
              "      <th>TaxClass_AtEvaluationTime</th>\n",
              "      <th>BldgClass_AtEvaluationTime</th>\n",
              "      <th>age</th>\n",
              "      <th>bldg_area</th>\n",
              "      <th>Borough_2</th>\n",
              "      <th>Borough_3</th>\n",
              "      <th>Borough_4</th>\n",
              "      <th>...</th>\n",
              "      <th>ZipCode_11429</th>\n",
              "      <th>ZipCode_11432</th>\n",
              "      <th>ZipCode_11433</th>\n",
              "      <th>ZipCode_11434</th>\n",
              "      <th>ZipCode_11435</th>\n",
              "      <th>ZipCode_11436</th>\n",
              "      <th>ZipCode_11691</th>\n",
              "      <th>ZipCode_11692</th>\n",
              "      <th>ZipCode_11693</th>\n",
              "      <th>ZipCode_11694</th>\n",
              "    </tr>\n",
              "  </thead>\n",
              "  <tbody>\n",
              "    <tr>\n",
              "      <th>0</th>\n",
              "      <td>2929</td>\n",
              "      <td>2</td>\n",
              "      <td>0</td>\n",
              "      <td>1</td>\n",
              "      <td>9</td>\n",
              "      <td>18</td>\n",
              "      <td>2498</td>\n",
              "      <td>0</td>\n",
              "      <td>0</td>\n",
              "      <td>0</td>\n",
              "      <td>...</td>\n",
              "      <td>0</td>\n",
              "      <td>0</td>\n",
              "      <td>0</td>\n",
              "      <td>0</td>\n",
              "      <td>0</td>\n",
              "      <td>0</td>\n",
              "      <td>0</td>\n",
              "      <td>0</td>\n",
              "      <td>0</td>\n",
              "      <td>0</td>\n",
              "    </tr>\n",
              "    <tr>\n",
              "      <th>1</th>\n",
              "      <td>3036</td>\n",
              "      <td>2</td>\n",
              "      <td>0</td>\n",
              "      <td>1</td>\n",
              "      <td>9</td>\n",
              "      <td>20</td>\n",
              "      <td>2340</td>\n",
              "      <td>0</td>\n",
              "      <td>0</td>\n",
              "      <td>0</td>\n",
              "      <td>...</td>\n",
              "      <td>0</td>\n",
              "      <td>0</td>\n",
              "      <td>0</td>\n",
              "      <td>0</td>\n",
              "      <td>0</td>\n",
              "      <td>0</td>\n",
              "      <td>0</td>\n",
              "      <td>0</td>\n",
              "      <td>0</td>\n",
              "      <td>0</td>\n",
              "    </tr>\n",
              "    <tr>\n",
              "      <th>2</th>\n",
              "      <td>3048</td>\n",
              "      <td>4</td>\n",
              "      <td>1</td>\n",
              "      <td>2</td>\n",
              "      <td>58</td>\n",
              "      <td>52</td>\n",
              "      <td>6000</td>\n",
              "      <td>0</td>\n",
              "      <td>0</td>\n",
              "      <td>0</td>\n",
              "      <td>...</td>\n",
              "      <td>0</td>\n",
              "      <td>0</td>\n",
              "      <td>0</td>\n",
              "      <td>0</td>\n",
              "      <td>0</td>\n",
              "      <td>0</td>\n",
              "      <td>0</td>\n",
              "      <td>0</td>\n",
              "      <td>0</td>\n",
              "      <td>0</td>\n",
              "    </tr>\n",
              "    <tr>\n",
              "      <th>3</th>\n",
              "      <td>2899</td>\n",
              "      <td>0</td>\n",
              "      <td>1</td>\n",
              "      <td>4</td>\n",
              "      <td>21</td>\n",
              "      <td>64</td>\n",
              "      <td>3439</td>\n",
              "      <td>0</td>\n",
              "      <td>0</td>\n",
              "      <td>0</td>\n",
              "      <td>...</td>\n",
              "      <td>0</td>\n",
              "      <td>0</td>\n",
              "      <td>0</td>\n",
              "      <td>0</td>\n",
              "      <td>0</td>\n",
              "      <td>0</td>\n",
              "      <td>0</td>\n",
              "      <td>0</td>\n",
              "      <td>0</td>\n",
              "      <td>0</td>\n",
              "    </tr>\n",
              "    <tr>\n",
              "      <th>4</th>\n",
              "      <td>3083</td>\n",
              "      <td>3</td>\n",
              "      <td>0</td>\n",
              "      <td>1</td>\n",
              "      <td>13</td>\n",
              "      <td>17</td>\n",
              "      <td>2931</td>\n",
              "      <td>0</td>\n",
              "      <td>0</td>\n",
              "      <td>0</td>\n",
              "      <td>...</td>\n",
              "      <td>0</td>\n",
              "      <td>0</td>\n",
              "      <td>0</td>\n",
              "      <td>0</td>\n",
              "      <td>0</td>\n",
              "      <td>0</td>\n",
              "      <td>0</td>\n",
              "      <td>0</td>\n",
              "      <td>0</td>\n",
              "      <td>0</td>\n",
              "    </tr>\n",
              "  </tbody>\n",
              "</table>\n",
              "<p>5 rows × 174 columns</p>\n",
              "</div>\n",
              "      <button class=\"colab-df-convert\" onclick=\"convertToInteractive('df-8a271819-0bec-4c56-aa3d-d77eaf4d7b48')\"\n",
              "              title=\"Convert this dataframe to an interactive table.\"\n",
              "              style=\"display:none;\">\n",
              "        \n",
              "  <svg xmlns=\"http://www.w3.org/2000/svg\" height=\"24px\"viewBox=\"0 0 24 24\"\n",
              "       width=\"24px\">\n",
              "    <path d=\"M0 0h24v24H0V0z\" fill=\"none\"/>\n",
              "    <path d=\"M18.56 5.44l.94 2.06.94-2.06 2.06-.94-2.06-.94-.94-2.06-.94 2.06-2.06.94zm-11 1L8.5 8.5l.94-2.06 2.06-.94-2.06-.94L8.5 2.5l-.94 2.06-2.06.94zm10 10l.94 2.06.94-2.06 2.06-.94-2.06-.94-.94-2.06-.94 2.06-2.06.94z\"/><path d=\"M17.41 7.96l-1.37-1.37c-.4-.4-.92-.59-1.43-.59-.52 0-1.04.2-1.43.59L10.3 9.45l-7.72 7.72c-.78.78-.78 2.05 0 2.83L4 21.41c.39.39.9.59 1.41.59.51 0 1.02-.2 1.41-.59l7.78-7.78 2.81-2.81c.8-.78.8-2.07 0-2.86zM5.41 20L4 18.59l7.72-7.72 1.47 1.35L5.41 20z\"/>\n",
              "  </svg>\n",
              "      </button>\n",
              "      \n",
              "  <style>\n",
              "    .colab-df-container {\n",
              "      display:flex;\n",
              "      flex-wrap:wrap;\n",
              "      gap: 12px;\n",
              "    }\n",
              "\n",
              "    .colab-df-convert {\n",
              "      background-color: #E8F0FE;\n",
              "      border: none;\n",
              "      border-radius: 50%;\n",
              "      cursor: pointer;\n",
              "      display: none;\n",
              "      fill: #1967D2;\n",
              "      height: 32px;\n",
              "      padding: 0 0 0 0;\n",
              "      width: 32px;\n",
              "    }\n",
              "\n",
              "    .colab-df-convert:hover {\n",
              "      background-color: #E2EBFA;\n",
              "      box-shadow: 0px 1px 2px rgba(60, 64, 67, 0.3), 0px 1px 3px 1px rgba(60, 64, 67, 0.15);\n",
              "      fill: #174EA6;\n",
              "    }\n",
              "\n",
              "    [theme=dark] .colab-df-convert {\n",
              "      background-color: #3B4455;\n",
              "      fill: #D2E3FC;\n",
              "    }\n",
              "\n",
              "    [theme=dark] .colab-df-convert:hover {\n",
              "      background-color: #434B5C;\n",
              "      box-shadow: 0px 1px 3px 1px rgba(0, 0, 0, 0.15);\n",
              "      filter: drop-shadow(0px 1px 2px rgba(0, 0, 0, 0.3));\n",
              "      fill: #FFFFFF;\n",
              "    }\n",
              "  </style>\n",
              "\n",
              "      <script>\n",
              "        const buttonEl =\n",
              "          document.querySelector('#df-8a271819-0bec-4c56-aa3d-d77eaf4d7b48 button.colab-df-convert');\n",
              "        buttonEl.style.display =\n",
              "          google.colab.kernel.accessAllowed ? 'block' : 'none';\n",
              "\n",
              "        async function convertToInteractive(key) {\n",
              "          const element = document.querySelector('#df-8a271819-0bec-4c56-aa3d-d77eaf4d7b48');\n",
              "          const dataTable =\n",
              "            await google.colab.kernel.invokeFunction('convertToInteractive',\n",
              "                                                     [key], {});\n",
              "          if (!dataTable) return;\n",
              "\n",
              "          const docLinkHtml = 'Like what you see? Visit the ' +\n",
              "            '<a target=\"_blank\" href=https://colab.research.google.com/notebooks/data_table.ipynb>data table notebook</a>'\n",
              "            + ' to learn more about interactive tables.';\n",
              "          element.innerHTML = '';\n",
              "          dataTable['output_type'] = 'display_data';\n",
              "          await google.colab.output.renderOutput(dataTable, element);\n",
              "          const docLink = document.createElement('div');\n",
              "          docLink.innerHTML = docLinkHtml;\n",
              "          element.appendChild(docLink);\n",
              "        }\n",
              "      </script>\n",
              "    </div>\n",
              "  </div>\n",
              "  "
            ]
          },
          "metadata": {},
          "execution_count": 642
        }
      ]
    },
    {
      "cell_type": "code",
      "source": [
        "# aligning train and test data for equal no. of columns\n",
        "X_train, testdata1 = X_dumm.align(testdata1, join='outer', axis=1, fill_value=0)\n",
        "print(X_train.shape)\n",
        "print(testdata1.shape)"
      ],
      "metadata": {
        "colab": {
          "base_uri": "https://localhost:8080/"
        },
        "id": "Z-FRjyjagz3t",
        "outputId": "f60d6a77-16a0-44bb-caf6-662a146eb675"
      },
      "execution_count": 643,
      "outputs": [
        {
          "output_type": "stream",
          "name": "stdout",
          "text": [
            "(16731, 184)\n",
            "(2922, 184)\n"
          ]
        }
      ]
    },
    {
      "cell_type": "code",
      "source": [
        "# Split the data into X_train, X_valid, y_train, y_valid with test_size = 0.20 \n",
        "from sklearn.model_selection import train_test_split\n",
        "X_train, X_test, y_train, y_test = train_test_split(X_train, y, test_size=0.20,random_state=615)"
      ],
      "metadata": {
        "id": "95t3B8FU6PFV"
      },
      "execution_count": 644,
      "outputs": []
    },
    {
      "cell_type": "code",
      "source": [
        "#Standardising\n",
        "from sklearn.preprocessing import StandardScaler\n",
        "scaler = StandardScaler()\n",
        "scaler.fit(X_train[num_cols])\n",
        "\n",
        "X_train[num_cols] = scaler.transform(X_train[num_cols])\n",
        "X_test[num_cols] = scaler.transform(X_test[num_cols])"
      ],
      "metadata": {
        "id": "k_LTZ2ilecDN"
      },
      "execution_count": 645,
      "outputs": []
    },
    {
      "cell_type": "code",
      "source": [
        "## Print the shape of X_train, X_valid, y_train, y_valid\n",
        "print(\" X_train :\" , X_train.shape)\n",
        "print(\" X_valid :\" , X_test.shape)\n",
        "print(\" y_train :\" , y_train.shape)\n",
        "print(\" y_valid :\" , y_test.shape)"
      ],
      "metadata": {
        "colab": {
          "base_uri": "https://localhost:8080/"
        },
        "id": "XvEY2oCzWxZx",
        "outputId": "a582038e-82f6-421f-b75c-6c38b9bedacf"
      },
      "execution_count": 646,
      "outputs": [
        {
          "output_type": "stream",
          "name": "stdout",
          "text": [
            " X_train : (13384, 184)\n",
            " X_valid : (3347, 184)\n",
            " y_train : (13384,)\n",
            " y_valid : (3347,)\n"
          ]
        }
      ]
    },
    {
      "cell_type": "code",
      "source": [
        "X_train.shape,X_test.shape"
      ],
      "metadata": {
        "colab": {
          "base_uri": "https://localhost:8080/"
        },
        "id": "C9T2EpOaCT3L",
        "outputId": "f0e5b261-d62f-4677-ff32-892d9ed3566f"
      },
      "execution_count": 647,
      "outputs": [
        {
          "output_type": "execute_result",
          "data": {
            "text/plain": [
              "((13384, 184), (3347, 184))"
            ]
          },
          "metadata": {},
          "execution_count": 647
        }
      ]
    },
    {
      "cell_type": "markdown",
      "source": [
        "MAPE CALCULATION"
      ],
      "metadata": {
        "id": "vbeAg-MHSoVL"
      }
    },
    {
      "cell_type": "code",
      "source": [
        "from sklearn import metrics\n",
        "def mean_absolute_percentage_error(y_true, y_pred): \n",
        "    return np.mean(np.abs((y_true - y_pred) / y_true)) * 100"
      ],
      "metadata": {
        "id": "zkb0HsSHdb4A"
      },
      "execution_count": 648,
      "outputs": []
    },
    {
      "cell_type": "markdown",
      "source": [
        "MODELLING"
      ],
      "metadata": {
        "id": "Q5ALCiGnSrhM"
      }
    },
    {
      "cell_type": "code",
      "source": [
        "#Standardising\n",
        "from sklearn.preprocessing import StandardScaler\n",
        "scaler = StandardScaler()\n",
        "scaler.fit(X_train[num_cols])\n",
        "\n",
        "X_train[num_cols] = scaler.transform(X_train[num_cols])\n",
        "X_test[num_cols] = scaler.transform(X_test[num_cols])"
      ],
      "metadata": {
        "id": "6zjtmsUauyhE"
      },
      "execution_count": 649,
      "outputs": []
    },
    {
      "cell_type": "code",
      "source": [
        "from sklearn import linear_model,metrics\n",
        "#Linear Regression model\n",
        "lm = linear_model.LinearRegression()\n",
        "lm_model= lm.fit(X_train,y_train)"
      ],
      "metadata": {
        "id": "DeSUuTvMQi13"
      },
      "execution_count": 650,
      "outputs": []
    },
    {
      "cell_type": "code",
      "source": [
        "print('Intercept   :', lm_model.intercept_)\n",
        "print('\\n','*'*100)\n",
        "print('Shape of Coefficients: \\n', lm_model.coef_.shape)\n",
        "print('\\n','*'*100)\n",
        "print('Coefficients: \\n', lm_model.coef_)"
      ],
      "metadata": {
        "colab": {
          "base_uri": "https://localhost:8080/"
        },
        "id": "FQXzF8YLf53O",
        "outputId": "d14fce18-e131-4a64-c15a-48385f80aba7"
      },
      "execution_count": 651,
      "outputs": [
        {
          "output_type": "stream",
          "name": "stdout",
          "text": [
            "Intercept   : 3844621.572829498\n",
            "\n",
            " ****************************************************************************************************\n",
            "Shape of Coefficients: \n",
            " (184,)\n",
            "\n",
            " ****************************************************************************************************\n",
            "Coefficients: \n",
            " [-1.38267183e+05 -6.16801794e+04  5.23477976e+16  1.00966204e+17\n",
            " -3.81308554e+05 -3.25949199e+16 -4.56159507e+03  8.15539275e+04\n",
            "  3.23667890e+05 -1.71158189e+06 -1.91498800e+06  1.52860914e+06\n",
            " -8.37836376e+05 -1.79658016e+06 -4.79856673e+05 -1.14394427e+05\n",
            "  1.66215877e+06  6.17357377e+05 -2.28995745e+06 -2.29099968e+06\n",
            " -1.34450330e+06 -3.48012734e+06 -1.33188908e+06 -1.96088742e+06\n",
            "  2.12138580e+05  2.22188112e+05 -2.27481067e+06 -2.22360350e+06\n",
            " -1.95117915e+06 -6.59228253e+05 -1.69005983e+06  1.00604816e+06\n",
            " -2.52722101e+06 -2.62316025e+06 -8.74167500e+05 -3.59211725e+06\n",
            " -2.66804625e+06 -2.66732862e+06 -2.75312000e+05 -2.70075981e+06\n",
            " -1.99684812e+06 -2.84633375e+05 -1.21031691e+06 -1.66271100e+06\n",
            " -1.31050569e+06 -3.00655662e+06 -1.00966204e+17 -1.00966204e+17\n",
            " -1.00966204e+17 -1.00966204e+17 -1.00966204e+17 -1.00966204e+17\n",
            " -1.00966204e+17 -1.00966204e+17 -1.00966204e+17 -1.00966204e+17\n",
            " -1.00966204e+17 -1.00966204e+17 -3.20303925e+06 -3.09740944e+06\n",
            " -3.07650050e+06 -2.84854950e+06 -3.01377238e+06 -3.31967200e+06\n",
            " -3.04812522e+06 -1.98856250e+06 -3.30079950e+06 -3.46767800e+06\n",
            " -3.20263962e+06 -3.23511750e+06 -2.57045750e+06 -3.28909047e+06\n",
            " -3.27285000e+06 -3.39860500e+06 -3.28089150e+06 -3.32876169e+06\n",
            " -3.31392550e+06 -3.27500925e+06 -2.57716350e+06 -3.10337450e+06\n",
            " -3.34924375e+06 -3.63292200e+06 -3.02670275e+06 -2.79627069e+06\n",
            "  3.25949199e+16  3.25949199e+16  3.25949199e+16  3.25949199e+16\n",
            "  3.25949199e+16  3.25949199e+16  3.25949199e+16  3.25949199e+16\n",
            "  3.25949199e+16 -5.23477976e+16 -5.23477976e+16 -5.23477976e+16\n",
            " -5.23477976e+16 -5.23477976e+16 -5.23477976e+16 -5.23477976e+16\n",
            " -5.23477976e+16 -5.23477976e+16 -5.23477976e+16 -5.23477976e+16\n",
            " -5.23477976e+16 -5.23477976e+16 -5.23477976e+16 -5.23477976e+16\n",
            " -5.23477976e+16 -5.23477976e+16 -5.23477976e+16 -5.23477976e+16\n",
            " -5.23477976e+16 -5.23477976e+16 -5.23477976e+16 -5.23477976e+16\n",
            " -5.23477976e+16 -5.23477976e+16 -5.23477976e+16 -5.23477976e+16\n",
            " -5.23477976e+16 -5.23477976e+16 -5.23477976e+16 -5.23477976e+16\n",
            " -5.23477976e+16 -5.23477976e+16 -5.23477976e+16 -5.23477976e+16\n",
            " -5.23477976e+16 -5.23477976e+16 -5.23477976e+16  3.25949199e+16\n",
            "  3.25949199e+16  3.25949199e+16  3.25949199e+16  3.25949199e+16\n",
            "  3.25949199e+16  3.25949199e+16  3.25949199e+16  3.25949199e+16\n",
            "  3.25949199e+16  3.25949199e+16  3.25949199e+16  3.25949199e+16\n",
            "  3.25949199e+16  3.25949199e+16  3.25949199e+16  3.25949199e+16\n",
            "  3.25949199e+16  3.25949199e+16  3.25949199e+16  3.25949199e+16\n",
            "  3.25949199e+16  3.25949199e+16  3.25949199e+16  3.25949199e+16\n",
            "  3.25949199e+16  3.25949199e+16  3.25949199e+16  3.25949199e+16\n",
            "  3.25949199e+16  3.25949199e+16  3.25949199e+16  3.25949199e+16\n",
            "  3.25949199e+16  3.25949199e+16  3.25949199e+16  3.25949199e+16\n",
            "  3.25949199e+16  3.25949199e+16  3.25949199e+16  3.25949199e+16\n",
            "  3.25949199e+16  3.25949199e+16  3.25949199e+16  3.25949199e+16\n",
            "  3.25949199e+16  3.25949199e+16  3.25949199e+16  3.25949199e+16\n",
            "  3.25949199e+16  3.25949199e+16  4.26400000e+03  6.35200000e+03]\n"
          ]
        }
      ]
    },
    {
      "cell_type": "code",
      "source": [
        "pred_train= lm.predict(X_train)\n",
        "pred_valid = lm.predict(X_test)"
      ],
      "metadata": {
        "id": "gffAvbStuWR_"
      },
      "execution_count": 652,
      "outputs": []
    },
    {
      "cell_type": "code",
      "source": [
        "print(mean_absolute_percentage_error(y_train,pred_train))\n",
        "print(mean_absolute_percentage_error(y_test,pred_valid))"
      ],
      "metadata": {
        "colab": {
          "base_uri": "https://localhost:8080/"
        },
        "id": "HsSm2w5Hua30",
        "outputId": "84b372c0-6da5-47ba-b39a-f4dc293b4b5b"
      },
      "execution_count": 653,
      "outputs": [
        {
          "output_type": "stream",
          "name": "stdout",
          "text": [
            "57.728434580955536\n",
            "63.23718822970977\n"
          ]
        }
      ]
    },
    {
      "cell_type": "code",
      "source": [
        "from sklearn.ensemble import RandomForestRegressor\n",
        "# Model initilization\n",
        "rf = RandomForestRegressor(n_estimators=10, max_depth=10,random_state=1030)\n",
        "# Model training\n",
        "rf.fit(X_train,y_train)\n",
        "# Model predictions\n",
        "rf_train_pred = rf.predict(X_train)\n",
        "rf_test_pred = rf.predict(X_test)"
      ],
      "metadata": {
        "id": "vaMcSKmYw232"
      },
      "execution_count": 654,
      "outputs": []
    },
    {
      "cell_type": "code",
      "source": [
        "print(mean_absolute_percentage_error(y_train,rf_train_pred))\n",
        "print(mean_absolute_percentage_error(y_test,rf_test_pred))"
      ],
      "metadata": {
        "colab": {
          "base_uri": "https://localhost:8080/"
        },
        "id": "JoKPhZQXw2x3",
        "outputId": "cd787238-a043-497a-a5b5-d1e69dbe2fe1"
      },
      "execution_count": 655,
      "outputs": [
        {
          "output_type": "stream",
          "name": "stdout",
          "text": [
            "39.26997458975582\n",
            "44.08715029631274\n"
          ]
        }
      ]
    },
    {
      "cell_type": "code",
      "source": [
        "df_test.head()"
      ],
      "metadata": {
        "colab": {
          "base_uri": "https://localhost:8080/",
          "height": 206
        },
        "id": "PdtgN0N9Z_Xi",
        "outputId": "02c46d3c-ee8b-43d5-b299-5ebb5a35ee95"
      },
      "execution_count": 656,
      "outputs": [
        {
          "output_type": "execute_result",
          "data": {
            "text/plain": [
              "  PropertyID Borough ZipCode  Block  NoOfResidentialUnits  \\\n",
              "0    PR51101       1   10457   2929                     2   \n",
              "1    PR51102       1   10457   3036                     2   \n",
              "2    PR51103       1   10457   3048                     4   \n",
              "3    PR51104       1   10457   2899                     0   \n",
              "4    PR51105       1   10457   3083                     3   \n",
              "\n",
              "   NoOfCommercialUnits  TaxClass_AtEvaluationTime  BldgClass_AtEvaluationTime  \\\n",
              "0                    0                          1                           9   \n",
              "1                    0                          1                           9   \n",
              "2                    1                          2                          58   \n",
              "3                    1                          4                          21   \n",
              "4                    0                          1                          13   \n",
              "\n",
              "   age  bldg_area  \n",
              "0   18       2498  \n",
              "1   20       2340  \n",
              "2   52       6000  \n",
              "3   64       3439  \n",
              "4   17       2931  "
            ],
            "text/html": [
              "\n",
              "  <div id=\"df-d5221b5a-e66d-4eec-ba98-30a963224e28\">\n",
              "    <div class=\"colab-df-container\">\n",
              "      <div>\n",
              "<style scoped>\n",
              "    .dataframe tbody tr th:only-of-type {\n",
              "        vertical-align: middle;\n",
              "    }\n",
              "\n",
              "    .dataframe tbody tr th {\n",
              "        vertical-align: top;\n",
              "    }\n",
              "\n",
              "    .dataframe thead th {\n",
              "        text-align: right;\n",
              "    }\n",
              "</style>\n",
              "<table border=\"1\" class=\"dataframe\">\n",
              "  <thead>\n",
              "    <tr style=\"text-align: right;\">\n",
              "      <th></th>\n",
              "      <th>PropertyID</th>\n",
              "      <th>Borough</th>\n",
              "      <th>ZipCode</th>\n",
              "      <th>Block</th>\n",
              "      <th>NoOfResidentialUnits</th>\n",
              "      <th>NoOfCommercialUnits</th>\n",
              "      <th>TaxClass_AtEvaluationTime</th>\n",
              "      <th>BldgClass_AtEvaluationTime</th>\n",
              "      <th>age</th>\n",
              "      <th>bldg_area</th>\n",
              "    </tr>\n",
              "  </thead>\n",
              "  <tbody>\n",
              "    <tr>\n",
              "      <th>0</th>\n",
              "      <td>PR51101</td>\n",
              "      <td>1</td>\n",
              "      <td>10457</td>\n",
              "      <td>2929</td>\n",
              "      <td>2</td>\n",
              "      <td>0</td>\n",
              "      <td>1</td>\n",
              "      <td>9</td>\n",
              "      <td>18</td>\n",
              "      <td>2498</td>\n",
              "    </tr>\n",
              "    <tr>\n",
              "      <th>1</th>\n",
              "      <td>PR51102</td>\n",
              "      <td>1</td>\n",
              "      <td>10457</td>\n",
              "      <td>3036</td>\n",
              "      <td>2</td>\n",
              "      <td>0</td>\n",
              "      <td>1</td>\n",
              "      <td>9</td>\n",
              "      <td>20</td>\n",
              "      <td>2340</td>\n",
              "    </tr>\n",
              "    <tr>\n",
              "      <th>2</th>\n",
              "      <td>PR51103</td>\n",
              "      <td>1</td>\n",
              "      <td>10457</td>\n",
              "      <td>3048</td>\n",
              "      <td>4</td>\n",
              "      <td>1</td>\n",
              "      <td>2</td>\n",
              "      <td>58</td>\n",
              "      <td>52</td>\n",
              "      <td>6000</td>\n",
              "    </tr>\n",
              "    <tr>\n",
              "      <th>3</th>\n",
              "      <td>PR51104</td>\n",
              "      <td>1</td>\n",
              "      <td>10457</td>\n",
              "      <td>2899</td>\n",
              "      <td>0</td>\n",
              "      <td>1</td>\n",
              "      <td>4</td>\n",
              "      <td>21</td>\n",
              "      <td>64</td>\n",
              "      <td>3439</td>\n",
              "    </tr>\n",
              "    <tr>\n",
              "      <th>4</th>\n",
              "      <td>PR51105</td>\n",
              "      <td>1</td>\n",
              "      <td>10457</td>\n",
              "      <td>3083</td>\n",
              "      <td>3</td>\n",
              "      <td>0</td>\n",
              "      <td>1</td>\n",
              "      <td>13</td>\n",
              "      <td>17</td>\n",
              "      <td>2931</td>\n",
              "    </tr>\n",
              "  </tbody>\n",
              "</table>\n",
              "</div>\n",
              "      <button class=\"colab-df-convert\" onclick=\"convertToInteractive('df-d5221b5a-e66d-4eec-ba98-30a963224e28')\"\n",
              "              title=\"Convert this dataframe to an interactive table.\"\n",
              "              style=\"display:none;\">\n",
              "        \n",
              "  <svg xmlns=\"http://www.w3.org/2000/svg\" height=\"24px\"viewBox=\"0 0 24 24\"\n",
              "       width=\"24px\">\n",
              "    <path d=\"M0 0h24v24H0V0z\" fill=\"none\"/>\n",
              "    <path d=\"M18.56 5.44l.94 2.06.94-2.06 2.06-.94-2.06-.94-.94-2.06-.94 2.06-2.06.94zm-11 1L8.5 8.5l.94-2.06 2.06-.94-2.06-.94L8.5 2.5l-.94 2.06-2.06.94zm10 10l.94 2.06.94-2.06 2.06-.94-2.06-.94-.94-2.06-.94 2.06-2.06.94z\"/><path d=\"M17.41 7.96l-1.37-1.37c-.4-.4-.92-.59-1.43-.59-.52 0-1.04.2-1.43.59L10.3 9.45l-7.72 7.72c-.78.78-.78 2.05 0 2.83L4 21.41c.39.39.9.59 1.41.59.51 0 1.02-.2 1.41-.59l7.78-7.78 2.81-2.81c.8-.78.8-2.07 0-2.86zM5.41 20L4 18.59l7.72-7.72 1.47 1.35L5.41 20z\"/>\n",
              "  </svg>\n",
              "      </button>\n",
              "      \n",
              "  <style>\n",
              "    .colab-df-container {\n",
              "      display:flex;\n",
              "      flex-wrap:wrap;\n",
              "      gap: 12px;\n",
              "    }\n",
              "\n",
              "    .colab-df-convert {\n",
              "      background-color: #E8F0FE;\n",
              "      border: none;\n",
              "      border-radius: 50%;\n",
              "      cursor: pointer;\n",
              "      display: none;\n",
              "      fill: #1967D2;\n",
              "      height: 32px;\n",
              "      padding: 0 0 0 0;\n",
              "      width: 32px;\n",
              "    }\n",
              "\n",
              "    .colab-df-convert:hover {\n",
              "      background-color: #E2EBFA;\n",
              "      box-shadow: 0px 1px 2px rgba(60, 64, 67, 0.3), 0px 1px 3px 1px rgba(60, 64, 67, 0.15);\n",
              "      fill: #174EA6;\n",
              "    }\n",
              "\n",
              "    [theme=dark] .colab-df-convert {\n",
              "      background-color: #3B4455;\n",
              "      fill: #D2E3FC;\n",
              "    }\n",
              "\n",
              "    [theme=dark] .colab-df-convert:hover {\n",
              "      background-color: #434B5C;\n",
              "      box-shadow: 0px 1px 3px 1px rgba(0, 0, 0, 0.15);\n",
              "      filter: drop-shadow(0px 1px 2px rgba(0, 0, 0, 0.3));\n",
              "      fill: #FFFFFF;\n",
              "    }\n",
              "  </style>\n",
              "\n",
              "      <script>\n",
              "        const buttonEl =\n",
              "          document.querySelector('#df-d5221b5a-e66d-4eec-ba98-30a963224e28 button.colab-df-convert');\n",
              "        buttonEl.style.display =\n",
              "          google.colab.kernel.accessAllowed ? 'block' : 'none';\n",
              "\n",
              "        async function convertToInteractive(key) {\n",
              "          const element = document.querySelector('#df-d5221b5a-e66d-4eec-ba98-30a963224e28');\n",
              "          const dataTable =\n",
              "            await google.colab.kernel.invokeFunction('convertToInteractive',\n",
              "                                                     [key], {});\n",
              "          if (!dataTable) return;\n",
              "\n",
              "          const docLinkHtml = 'Like what you see? Visit the ' +\n",
              "            '<a target=\"_blank\" href=https://colab.research.google.com/notebooks/data_table.ipynb>data table notebook</a>'\n",
              "            + ' to learn more about interactive tables.';\n",
              "          element.innerHTML = '';\n",
              "          dataTable['output_type'] = 'display_data';\n",
              "          await google.colab.output.renderOutput(dataTable, element);\n",
              "          const docLink = document.createElement('div');\n",
              "          docLink.innerHTML = docLinkHtml;\n",
              "          element.appendChild(docLink);\n",
              "        }\n",
              "      </script>\n",
              "    </div>\n",
              "  </div>\n",
              "  "
            ]
          },
          "metadata": {},
          "execution_count": 656
        }
      ]
    },
    {
      "cell_type": "code",
      "source": [
        "pred = rf.predict(testdata1)"
      ],
      "metadata": {
        "id": "Ez8Rng6-z4xe"
      },
      "execution_count": 657,
      "outputs": []
    },
    {
      "cell_type": "code",
      "source": [
        "submission = pd.DataFrame(data = df_test['PropertyID'], columns = ['PropertyID'])\n",
        "submission['PropertyEvaluationvalue'] = pred\n",
        "submission.to_csv('submission.csv', header=True, index=False)"
      ],
      "metadata": {
        "id": "0LqPIouT2ddI"
      },
      "execution_count": 658,
      "outputs": []
    }
  ],
  "metadata": {
    "colab": {
      "collapsed_sections": [],
      "provenance": []
    },
    "kernelspec": {
      "display_name": "Python 3",
      "name": "python3"
    }
  },
  "nbformat": 4,
  "nbformat_minor": 0
}